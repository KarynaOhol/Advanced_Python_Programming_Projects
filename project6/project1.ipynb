{
 "cells": [
  {
   "cell_type": "code",
   "id": "initial_id",
   "metadata": {
    "collapsed": true,
    "ExecuteTime": {
     "end_time": "2024-11-25T12:12:04.660122Z",
     "start_time": "2024-11-25T12:12:04.654088Z"
    }
   },
   "source": [
    "template = {\n",
    "    'user_id': int,\n",
    "    'name': {\n",
    "        'first': str,\n",
    "        'last': str,\n",
    "    },\n",
    "    'bio': {\n",
    "        'dob': {\n",
    "            'year': int,\n",
    "            'month': int,\n",
    "            'day': int\n",
    "        },\n",
    "        'birthplace': {\n",
    "            'country': str,\n",
    "            'city': str\n",
    "        }\n",
    "    }\n",
    "\n",
    "}"
   ],
   "outputs": [],
   "execution_count": 2
  },
  {
   "metadata": {},
   "cell_type": "code",
   "outputs": [],
   "execution_count": null,
   "source": [
    "def validate_template(data, template=template):\n",
    "    return state, error"
   ],
   "id": "d71a68f275c476b3"
  },
  {
   "metadata": {
    "ExecuteTime": {
     "end_time": "2024-11-25T12:12:06.890024Z",
     "start_time": "2024-11-25T12:12:06.878703Z"
    }
   },
   "cell_type": "code",
   "source": [
    "john = {\n",
    "    'user_id': 100,\n",
    "    'name': {\n",
    "        'first': 'John',\n",
    "        'last': 'Cleese',\n",
    "    },\n",
    "    'bio': {\n",
    "        'dob': {\n",
    "            'year': 1939,\n",
    "            'month': 11,\n",
    "            'day': 27\n",
    "        },\n",
    "        'birthplace': {\n",
    "            'country': \"UK\",\n",
    "            'city': \"London\"\n",
    "        }\n",
    "    }\n",
    "\n",
    "}\n",
    "\n",
    "eric = {\n",
    "    'user_id': 101,\n",
    "    'name': {\n",
    "        'first': 'Eric',\n",
    "        'last': 'Edle',\n",
    "    },\n",
    "    'bio': {\n",
    "        'dob': {\n",
    "            'year': 1943,\n",
    "            'month': 11,\n",
    "            'day': 29\n",
    "        },\n",
    "        'birthplace': {\n",
    "            'country': \"UK\"\n",
    "        }\n",
    "    }\n",
    "\n",
    "}\n",
    "\n",
    "michael = {\n",
    "    'user_id': 102,\n",
    "    'name': {\n",
    "        'first': 'Michael',\n",
    "        'last': 'Palin',\n",
    "    },\n",
    "    'bio': {\n",
    "        'dob': {\n",
    "            'year': 1943,\n",
    "            'month': 'May',\n",
    "            'day': 27\n",
    "        },\n",
    "        'birthplace': {\n",
    "            'country': \"UK\",\n",
    "            'city': \"London\"\n",
    "        }\n",
    "    }\n",
    "\n",
    "}"
   ],
   "id": "5b4a46606daae34f",
   "outputs": [],
   "execution_count": 3
  },
  {
   "metadata": {
    "ExecuteTime": {
     "end_time": "2024-11-25T13:11:16.566309Z",
     "start_time": "2024-11-25T13:11:16.562329Z"
    }
   },
   "cell_type": "code",
   "source": [
    "for i in template:\n",
    "    print(\"-\", i)\n",
    "    if isinstance(template[i], dict):\n",
    "        for j in template[i]:\n",
    "            print(\" --\", j)\n",
    "            if isinstance(template[i][j], dict):\n",
    "                for k in template[i][j]:\n",
    "                    print(\"     ---\", k)"
   ],
   "id": "ff60e1f112c8fb3a",
   "outputs": [],
   "execution_count": 20
  },
  {
   "metadata": {
    "ExecuteTime": {
     "end_time": "2024-11-25T12:28:31.861315Z",
     "start_time": "2024-11-25T12:28:31.835354Z"
    }
   },
   "cell_type": "code",
   "source": [
    "str_adress = []\n",
    "for i in template:\n",
    "    str_adress.append(i)\n",
    "    if isinstance(template[i], dict):\n",
    "        for j in template[i]:\n",
    "            str_adress.append(f'{i}.{j}')\n",
    "            if isinstance(template[i][j], dict):\n",
    "                for k in template[i][j]:\n",
    "                    str_adress.append(f'{i}.{j}.{k}')\n",
    "str_adress"
   ],
   "id": "196672909f9691cd",
   "outputs": [
    {
     "data": {
      "text/plain": [
       "['user_id',\n",
       " 'name',\n",
       " 'name.first',\n",
       " 'name.last',\n",
       " 'bio',\n",
       " 'bio.dob',\n",
       " 'bio.dob.year',\n",
       " 'bio.dob.month',\n",
       " 'bio.dob.day',\n",
       " 'bio.birthplace',\n",
       " 'bio.birthplace.country',\n",
       " 'bio.birthplace.city']"
      ]
     },
     "execution_count": 16,
     "metadata": {},
     "output_type": "execute_result"
    }
   ],
   "execution_count": 16
  },
  {
   "metadata": {
    "ExecuteTime": {
     "end_time": "2024-11-25T12:44:49.610631Z",
     "start_time": "2024-11-25T12:44:49.588363Z"
    }
   },
   "cell_type": "code",
   "source": [
    "def generate_addresses(template, prefix=\"\"):\n",
    "    \"\"\"Recursively generates addresses for nested dictionary keys.\"\"\"\n",
    "    addresses = []\n",
    "    for key, value in template.items():\n",
    "        current_address = f\"{prefix}.{key}\" if prefix else key\n",
    "        addresses.append(current_address)\n",
    "        if isinstance(value, dict):\n",
    "            addresses.extend(generate_addresses(value, current_address))\n",
    "    return addresses\n",
    "\n",
    "\n",
    "# Generate the string addresses\n",
    "str_addresses = generate_addresses(template)\n",
    "str_addresses"
   ],
   "id": "d2767b0a083db4a0",
   "outputs": [
    {
     "data": {
      "text/plain": [
       "['user_id',\n",
       " 'name',\n",
       " 'name.first',\n",
       " 'name.last',\n",
       " 'bio',\n",
       " 'bio.dob',\n",
       " 'bio.dob.year',\n",
       " 'bio.dob.month',\n",
       " 'bio.dob.day',\n",
       " 'bio.birthplace',\n",
       " 'bio.birthplace.country',\n",
       " 'bio.birthplace.city']"
      ]
     },
     "execution_count": 17,
     "metadata": {},
     "output_type": "execute_result"
    }
   ],
   "execution_count": 17
  },
  {
   "metadata": {
    "ExecuteTime": {
     "end_time": "2024-11-25T13:12:08.079457Z",
     "start_time": "2024-11-25T13:12:08.071494Z"
    }
   },
   "cell_type": "code",
   "source": [
    "def print_template(template, indent=0):\n",
    "    \"\"\"Recursively prints keys of a nested dictionary with indentation.\"\"\"\n",
    "    for key, value in template.items():\n",
    "        print(\" \" * indent + \"-\", key)\n",
    "        if isinstance(value, dict):\n",
    "            print_template(value, indent + 2)  # Increase indentation for nested dictionaries\n",
    "\n",
    "\n",
    "print_template(template)"
   ],
   "id": "c7a7bab17e517cc6",
   "outputs": [
    {
     "name": "stdout",
     "output_type": "stream",
     "text": [
      "- user_id\n",
      "- name\n",
      "  - first\n",
      "  - last\n",
      "- bio\n",
      "  - dob\n",
      "    - year\n",
      "    - month\n",
      "    - day\n",
      "  - birthplace\n",
      "    - country\n",
      "    - city\n"
     ]
    }
   ],
   "execution_count": 22
  },
  {
   "metadata": {
    "ExecuteTime": {
     "end_time": "2024-11-25T13:13:50.100299Z",
     "start_time": "2024-11-25T13:13:50.094065Z"
    }
   },
   "cell_type": "code",
   "source": [
    "def print_template(template, indent=0):\n",
    "    \"\"\"Recursively prints keys of a nested dictionary with indentation.\"\"\"\n",
    "    for key, value in template.items():\n",
    "        print(\" \" * indent, key)\n",
    "        if isinstance(value, dict):\n",
    "            print_template(value, indent + 2)  # Increase indentation for nested dictionaries\n",
    "\n",
    "\n",
    "print_template(template)"
   ],
   "id": "d221564f52a6d9f1",
   "outputs": [
    {
     "name": "stdout",
     "output_type": "stream",
     "text": [
      " user_id\n",
      " name\n",
      "   first\n",
      "   last\n",
      " bio\n",
      "   dob\n",
      "     year\n",
      "     month\n",
      "     day\n",
      "   birthplace\n",
      "     country\n",
      "     city\n"
     ]
    }
   ],
   "execution_count": 23
  },
  {
   "metadata": {
    "ExecuteTime": {
     "end_time": "2024-11-25T15:30:34.772987Z",
     "start_time": "2024-11-25T15:30:34.757810Z"
    }
   },
   "cell_type": "code",
   "source": [
    "def print_dict_keys(d, indent=0):\n",
    "    for key, value in d.items():\n",
    "        print(\" \" * indent, key)\n",
    "        if isinstance(value, dict):\n",
    "            print_dict_keys(value, indent + 2)\n",
    "\n",
    "\n",
    "print_dict_keys(eric)"
   ],
   "id": "1a8227dd94a65be0",
   "outputs": [
    {
     "name": "stdout",
     "output_type": "stream",
     "text": [
      " user_id\n",
      " name\n",
      "   first\n",
      "   last\n",
      " bio\n",
      "   dob\n",
      "     year\n",
      "     month\n",
      "     day\n",
      "   birthplace\n",
      "     country\n"
     ]
    }
   ],
   "execution_count": 24
  },
  {
   "metadata": {
    "ExecuteTime": {
     "end_time": "2024-11-25T15:36:01.699369Z",
     "start_time": "2024-11-25T15:36:01.676038Z"
    }
   },
   "cell_type": "code",
   "source": [
    "def print_dict_keys_addres(d, pref=''):\n",
    "    addres = []\n",
    "    for key, value in d.items():\n",
    "        current_adress = f\"{pref}.{key}\" if pref else key\n",
    "        addres.append(current_adress)\n",
    "        if isinstance(value, dict):\n",
    "            addres.extend(print_dict_keys_addres(value, current_adress))\n",
    "    return addres\n",
    "\n",
    "\n",
    "print_dict_keys_addres(eric)"
   ],
   "id": "42c44e3f9d149ff0",
   "outputs": [
    {
     "data": {
      "text/plain": [
       "['user_id',\n",
       " 'name',\n",
       " 'name.first',\n",
       " 'name.last',\n",
       " 'bio',\n",
       " 'bio.dob',\n",
       " 'bio.dob.year',\n",
       " 'bio.dob.month',\n",
       " 'bio.dob.day',\n",
       " 'bio.birthplace',\n",
       " 'bio.birthplace.country']"
      ]
     },
     "execution_count": 27,
     "metadata": {},
     "output_type": "execute_result"
    }
   ],
   "execution_count": 27
  },
  {
   "metadata": {
    "ExecuteTime": {
     "end_time": "2024-11-25T16:39:51.498478Z",
     "start_time": "2024-11-25T16:39:51.476984Z"
    }
   },
   "cell_type": "code",
   "source": [
    "from collections import namedtuple\n",
    "\n",
    "Node = namedtuple('Node', ['value', \"children\", 'status'])\n",
    "\n",
    "nodes = [Node(f\"{j}\", [Node(f\"{j}.{i}\", [], i % 2 == 0) for i in range(1, 4)], j % 2 == 1) for j in range(1, 3)]\n",
    "\n",
    "for n in nodes:\n",
    "    print(\"value\", n.value, 'status', n.status)\n",
    "    for item in n.children:\n",
    "        print(\"children value\", item.value, 'status', item.status)\n"
   ],
   "id": "f58977bbc396b009",
   "outputs": [
    {
     "name": "stdout",
     "output_type": "stream",
     "text": [
      "value 1 status True\n",
      "children value 1.1 status False\n",
      "children value 1.2 status True\n",
      "children value 1.3 status False\n",
      "value 2 status False\n",
      "children value 2.1 status False\n",
      "children value 2.2 status True\n",
      "children value 2.3 status False\n"
     ]
    }
   ],
   "execution_count": 85
  },
  {
   "metadata": {
    "ExecuteTime": {
     "end_time": "2024-11-25T16:41:47.367756Z",
     "start_time": "2024-11-25T16:41:47.362832Z"
    }
   },
   "cell_type": "code",
   "source": "nodes",
   "id": "6cdce3e58bf152b2",
   "outputs": [
    {
     "data": {
      "text/plain": [
       "[Node(value='1', children=[Node(value='1.1', children=[], status=False), Node(value='1.2', children=[], status=True), Node(value='1.3', children=[], status=False)], status=True),\n",
       " Node(value='2', children=[Node(value='2.1', children=[], status=False), Node(value='2.2', children=[], status=True), Node(value='2.3', children=[], status=False)], status=False)]"
      ]
     },
     "execution_count": 86,
     "metadata": {},
     "output_type": "execute_result"
    }
   ],
   "execution_count": 86
  },
  {
   "metadata": {
    "ExecuteTime": {
     "end_time": "2024-11-25T16:57:30.951035Z",
     "start_time": "2024-11-25T16:57:30.944199Z"
    }
   },
   "cell_type": "code",
   "source": [
    "def print_nodes(nodes):\n",
    "    nod_val = []\n",
    "    for node in nodes:\n",
    "        if node.status:\n",
    "            nod_val.append(node.value)\n",
    "        if node.children:\n",
    "            nod_val.extend(print_nodes(node.children))\n",
    "\n",
    "    return nod_val\n",
    "\n",
    "\n",
    "print_nodes(nodes)"
   ],
   "id": "a3891a40191ba0cc",
   "outputs": [
    {
     "data": {
      "text/plain": [
       "['1', '1.2', '2.2']"
      ]
     },
     "execution_count": 93,
     "metadata": {},
     "output_type": "execute_result"
    }
   ],
   "execution_count": 93
  },
  {
   "metadata": {
    "ExecuteTime": {
     "end_time": "2024-11-25T16:29:10.615103Z",
     "start_time": "2024-11-25T16:29:10.596005Z"
    }
   },
   "cell_type": "code",
   "source": [
    "def print_nodes_values(nodes):\n",
    "    nod_val = []\n",
    "    for node in nodes:\n",
    "        if isinstance(node.children, list):\n",
    "            nod_val.extend(print_nodes_values(node.children.value))\n",
    "        else:\n",
    "            nod_val.append(node.value)\n",
    "    return nod_val\n",
    "\n",
    "\n",
    "print_nodes_values(nodes)\n"
   ],
   "id": "d4d4ddb315139228",
   "outputs": [
    {
     "data": {
      "text/plain": [
       "['2.2']"
      ]
     },
     "execution_count": 77,
     "metadata": {},
     "output_type": "execute_result"
    }
   ],
   "execution_count": 77
  },
  {
   "metadata": {
    "ExecuteTime": {
     "end_time": "2024-11-25T16:15:37.368738Z",
     "start_time": "2024-11-25T16:15:37.357589Z"
    }
   },
   "cell_type": "code",
   "source": [
    "def print_nodes_values_addres(nodes):\n",
    "    for node in nodes:\n",
    "        for n in node.value:\n",
    "            print(n.value)\n",
    "\n",
    "\n",
    "print_nodes_values_addres(nodes)"
   ],
   "id": "5d719892ca1662b3",
   "outputs": [
    {
     "name": "stdout",
     "output_type": "stream",
     "text": [
      "1.1\n",
      "1.2\n",
      "1.3\n",
      "2.1\n",
      "2.2\n",
      "2.3\n"
     ]
    }
   ],
   "execution_count": 64
  },
  {
   "metadata": {
    "ExecuteTime": {
     "end_time": "2024-11-25T15:48:58.557189Z",
     "start_time": "2024-11-25T15:48:58.551494Z"
    }
   },
   "cell_type": "code",
   "source": [
    "node1dict = {\n",
    "    \"value\": \"1\",\n",
    "    \"children\": [\n",
    "        {\n",
    "            \"value\": \"1.1\"\n",
    "        },\n",
    "        {\n",
    "            \"value\": \"1.2\"\n",
    "        },\n",
    "        {\n",
    "            \"value\": \"1.3\",\n",
    "            \"children\": [\n",
    "                {\n",
    "                    \"value\": \"1.3.1\"\n",
    "                },\n",
    "                {\n",
    "                    \"value\": \"1.3.2\"\n",
    "                },\n",
    "                {\n",
    "                    \"value\": \"1.3.3\"\n",
    "                }\n",
    "            ]\n",
    "        }\n",
    "    ]\n",
    "}"
   ],
   "id": "d4e6ee770084b476",
   "outputs": [],
   "execution_count": 32
  },
  {
   "metadata": {},
   "cell_type": "markdown",
   "source": "",
   "id": "fc07514ca85b7902"
  },
  {
   "metadata": {
    "ExecuteTime": {
     "end_time": "2024-11-25T17:07:22.525847Z",
     "start_time": "2024-11-25T17:07:22.521268Z"
    }
   },
   "cell_type": "code",
   "source": [
    "class Node():\n",
    "    def __init__(self, value, children=None):\n",
    "        self.value = value\n",
    "        self.children = children\n",
    "\n",
    "\n",
    "node = Node(\"val1\", [])"
   ],
   "id": "fb5bee852ce8bea0",
   "outputs": [],
   "execution_count": 95
  },
  {
   "metadata": {
    "ExecuteTime": {
     "end_time": "2024-11-25T17:39:29.867256Z",
     "start_time": "2024-11-25T17:39:29.861617Z"
    }
   },
   "cell_type": "code",
   "source": [
    "class Node():\n",
    "    value: str\n",
    "    status: bool\n",
    "\n",
    "    def __init__(self, value, status=True):\n",
    "        self.value = value\n",
    "        self.status = status\n",
    "\n",
    "    def __repr__(self):\n",
    "        return f'Node(value: {self.value})'"
   ],
   "id": "1abf54ecf1a83e2c",
   "outputs": [],
   "execution_count": 128
  },
  {
   "metadata": {
    "ExecuteTime": {
     "end_time": "2024-11-25T17:33:06.362176Z",
     "start_time": "2024-11-25T17:33:06.342315Z"
    }
   },
   "cell_type": "code",
   "source": [
    "tmpl = [{\"value\": 2, \"ert\": 345}, {\"value\": 3}, {\"value\": 4}, {\"value\": 5}, {\"ert\": 345}]\n",
    "\n",
    "\n",
    "def crate_structure(tmpl):\n",
    "    nodes = []\n",
    "    for item in tmpl:\n",
    "        nodes.append(Node(item.get(\"value\", 0)))\n",
    "    return nodes\n",
    "\n",
    "\n",
    "crate_structure(tmpl)"
   ],
   "id": "fb99957adf7380bc",
   "outputs": [
    {
     "data": {
      "text/plain": [
       "[Node(value: 2),\n",
       " Node(value: 3),\n",
       " Node(value: 4),\n",
       " Node(value: 5),\n",
       " Node(value: 0)]"
      ]
     },
     "execution_count": 120,
     "metadata": {},
     "output_type": "execute_result"
    }
   ],
   "execution_count": 120
  },
  {
   "metadata": {
    "ExecuteTime": {
     "end_time": "2024-11-25T17:39:33.389221Z",
     "start_time": "2024-11-25T17:39:33.384151Z"
    }
   },
   "cell_type": "code",
   "source": [
    "filed_names = list(Node.__annotations__.keys())\n",
    "filed_names"
   ],
   "id": "ebc644651f15eb7",
   "outputs": [
    {
     "data": {
      "text/plain": [
       "['value', 'status']"
      ]
     },
     "execution_count": 129,
     "metadata": {},
     "output_type": "execute_result"
    }
   ],
   "execution_count": 129
  },
  {
   "metadata": {
    "ExecuteTime": {
     "end_time": "2024-11-25T17:39:44.693257Z",
     "start_time": "2024-11-25T17:39:44.681454Z"
    }
   },
   "cell_type": "code",
   "source": "Node.__annotations__",
   "id": "3f6de25cd569dde3",
   "outputs": [
    {
     "data": {
      "text/plain": [
       "{'value': str, 'status': bool}"
      ]
     },
     "execution_count": 130,
     "metadata": {},
     "output_type": "execute_result"
    }
   ],
   "execution_count": 130
  },
  {
   "metadata": {
    "ExecuteTime": {
     "end_time": "2024-11-25T17:35:16.779260Z",
     "start_time": "2024-11-25T17:35:16.776028Z"
    }
   },
   "cell_type": "code",
   "source": "nt = namedtuple('nt', \"filed_names\")",
   "id": "d3ee71ad97c33b5d",
   "outputs": [],
   "execution_count": 124
  },
  {
   "metadata": {
    "ExecuteTime": {
     "end_time": "2024-11-25T17:36:03.133730Z",
     "start_time": "2024-11-25T17:36:03.120560Z"
    }
   },
   "cell_type": "code",
   "source": "nt._fields",
   "id": "6c9855adbbe3e388",
   "outputs": [
    {
     "data": {
      "text/plain": [
       "('filed_names',)"
      ]
     },
     "execution_count": 127,
     "metadata": {},
     "output_type": "execute_result"
    }
   ],
   "execution_count": 127
  },
  {
   "metadata": {
    "ExecuteTime": {
     "end_time": "2024-11-25T20:06:34.755098Z",
     "start_time": "2024-11-25T20:06:34.746385Z"
    }
   },
   "cell_type": "code",
   "source": [
    "\n",
    "class Node():\n",
    "    value: str\n",
    "    status: bool\n",
    "    children: list\n",
    "\n",
    "    def __init__(self, value=None, status=False, children=None):\n",
    "        self.value = value\n",
    "        self.status = status\n",
    "        self.children = children\n",
    "\n",
    "    def __repr__(self):\n",
    "        return f'Node(value: {self.value}, status: {self.status}, children: {self.children})'\n",
    "\n",
    "\n",
    "tmpl = [{\"value\": \"2\", \"ert\": 345, \"status\": -1},\n",
    "        {\"value\": 3, 'status': 34, 'children': [{'value': 3.1}, {'value': 3.2}]}, {\"value\": 4},\n",
    "        {\"value\": 5}, {\"ert\": 345}]\n",
    "\n",
    "\n",
    "def create_class(tmpl, clazz):\n",
    "    nodes = []\n",
    "    keys_from_class = clazz.__annotations__.items()\n",
    "    for item in tmpl:\n",
    "        class_values = {}\n",
    "        for key, type in keys_from_class:\n",
    "            if key in item.keys():\n",
    "                if isinstance(item[key], list):\n",
    "                    class_values[key] = create_class(item[key], clazz)\n",
    "                else:\n",
    "                    try:\n",
    "                        class_values[key] = type(item[key])\n",
    "                    except (TypeError, ValueError):\n",
    "                        class_values[key] = None\n",
    "        nodes.append(clazz(**class_values))\n",
    "    return nodes\n",
    "\n",
    "\n",
    "create_class(tmpl, Node)"
   ],
   "id": "4b2d879176057c0",
   "outputs": [
    {
     "data": {
      "text/plain": [
       "[Node(value: 2, status: True, children: None),\n",
       " Node(value: 3, status: True, children: [Node(value: 3.1, status: False, children: None), Node(value: 3.2, status: False, children: None)]),\n",
       " Node(value: 4, status: False, children: None),\n",
       " Node(value: 5, status: False, children: None),\n",
       " Node(value: None, status: False, children: None)]"
      ]
     },
     "execution_count": 208,
     "metadata": {},
     "output_type": "execute_result"
    }
   ],
   "execution_count": 208
  },
  {
   "metadata": {
    "ExecuteTime": {
     "end_time": "2024-11-25T17:40:00.585710Z",
     "start_time": "2024-11-25T17:40:00.581139Z"
    }
   },
   "cell_type": "code",
   "source": "a, b, c =",
   "id": "b2ff98ab1107ffc0",
   "outputs": [
    {
     "data": {
      "text/plain": [
       "[Node(value: 2),\n",
       " Node(value: 3),\n",
       " Node(value: 4),\n",
       " Node(value: 5),\n",
       " Node(value: 0)]"
      ]
     },
     "execution_count": 132,
     "metadata": {},
     "output_type": "execute_result"
    }
   ],
   "execution_count": 132
  },
  {
   "metadata": {},
   "cell_type": "code",
   "outputs": [],
   "execution_count": null,
   "source": "",
   "id": "350aba4a71caa906"
  }
 ],
 "metadata": {
  "kernelspec": {
   "display_name": "Python 3",
   "language": "python",
   "name": "python3"
  },
  "language_info": {
   "codemirror_mode": {
    "name": "ipython",
    "version": 2
   },
   "file_extension": ".py",
   "mimetype": "text/x-python",
   "name": "python",
   "nbconvert_exporter": "python",
   "pygments_lexer": "ipython2",
   "version": "2.7.6"
  }
 },
 "nbformat": 4,
 "nbformat_minor": 5
}
