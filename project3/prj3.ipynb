{
 "cells": [
  {
   "cell_type": "code",
   "id": "initial_id",
   "metadata": {
    "collapsed": true,
    "ExecuteTime": {
     "end_time": "2024-10-28T19:30:50.132048Z",
     "start_time": "2024-10-28T19:30:50.108200Z"
    }
   },
   "source": [
    "from collections import namedtuple\n",
    "from datetime import datetime\n",
    "from collections import Counter\n",
    "\n",
    "\n",
    "def get_clean_read(file):\n",
    "    with open(file) as f:\n",
    "        for line in f:\n",
    "            yield line.strip('\\n').split(',')\n",
    "\n",
    "\n",
    "data_type = ('INT', 'STR', 'STR', 'STR', 'DATE', 'INT', 'STR', 'STR', 'STR')\n",
    "\n",
    "_cast_data_to_type_key = {'DATE': lambda x: datetime.strptime(x, '%m/%d/%Y').date(), 'INT': lambda x: int(x)}\n",
    "\n",
    "\n",
    "def cast_data_to_type(data_type, value):\n",
    "    return _cast_data_to_type_key.get(data_type, lambda x: str(x))(value)\n",
    "\n",
    "\n",
    "def cast_row(data_row, data_types=data_type):\n",
    "    return [cast_data_to_type(dt, v) for dt, v in zip(data_types, data_row)]\n",
    "\n",
    "\n",
    "def parking_ticket(file='nyc_parking_tickets_extract.csv'):\n",
    "    data = get_clean_read(file)\n",
    "    headers = [n.replace(' ', '_').lower() for n in next(data)]\n",
    "    ParkingTicket = namedtuple('ParkingTicket', headers)\n",
    "    for line in data:\n",
    "        yield ParkingTicket(*cast_row(line))\n",
    "\n",
    "\n",
    "def violations_by_car_mark(park_ticks=parking_ticket()):\n",
    "    return Counter(ticket.vehicle_make for ticket in park_ticks)\n"
   ],
   "outputs": [],
   "execution_count": 93
  },
  {
   "metadata": {
    "ExecuteTime": {
     "end_time": "2024-10-28T19:14:18.503009Z",
     "start_time": "2024-10-28T19:14:18.495632Z"
    }
   },
   "cell_type": "code",
   "source": [
    "nyc_park_tick = parking_ticket()\n",
    "next(nyc_park_tick), next(nyc_park_tick), next(nyc_park_tick)"
   ],
   "id": "be6f5b596f2798e2",
   "outputs": [
    {
     "data": {
      "text/plain": [
       "(ParkingTicket(summons_number=4006478550, plate_id='VAD7274', registration_state='VA', plate_type='PAS', issue_date=datetime.date(2016, 10, 5), violation_code=5, vehicle_body_type='4D', vehicle_make='BMW', violation_description='BUS LANE VIOLATION'),\n",
       " ParkingTicket(summons_number=4006462396, plate_id='22834JK', registration_state='NY', plate_type='COM', issue_date=datetime.date(2016, 9, 30), violation_code=5, vehicle_body_type='VAN', vehicle_make='CHEVR', violation_description='BUS LANE VIOLATION'),\n",
       " ParkingTicket(summons_number=4007117810, plate_id='21791MG', registration_state='NY', plate_type='COM', issue_date=datetime.date(2017, 4, 10), violation_code=5, vehicle_body_type='VAN', vehicle_make='DODGE', violation_description='BUS LANE VIOLATION'))"
      ]
     },
     "execution_count": 70,
     "metadata": {},
     "output_type": "execute_result"
    }
   ],
   "execution_count": 70
  },
  {
   "metadata": {
    "ExecuteTime": {
     "end_time": "2024-10-28T19:30:52.679587Z",
     "start_time": "2024-10-28T19:30:52.575817Z"
    }
   },
   "cell_type": "code",
   "source": "violations_by_car_mark()",
   "id": "a8b876029cd9fdb5",
   "outputs": [
    {
     "data": {
      "text/plain": [
       "Counter({'TOYOT': 112,\n",
       "         'HONDA': 106,\n",
       "         'FORD': 104,\n",
       "         'CHEVR': 76,\n",
       "         'NISSA': 70,\n",
       "         'DODGE': 45,\n",
       "         'FRUEH': 44,\n",
       "         'ME/BE': 38,\n",
       "         'GMC': 35,\n",
       "         'HYUND': 35,\n",
       "         'BMW': 34,\n",
       "         'LEXUS': 26,\n",
       "         'INTER': 25,\n",
       "         'JEEP': 22,\n",
       "         'NS/OT': 18,\n",
       "         'SUBAR': 18,\n",
       "         'INFIN': 13,\n",
       "         'LINCO': 12,\n",
       "         'CHRYS': 12,\n",
       "         'ACURA': 12,\n",
       "         'AUDI': 12,\n",
       "         'VOLVO': 12,\n",
       "         'MITSU': 11,\n",
       "         'ISUZU': 10,\n",
       "         'CADIL': 9,\n",
       "         'KIA': 8,\n",
       "         'VOLKS': 8,\n",
       "         'HIN': 6,\n",
       "         'KENWO': 5,\n",
       "         '': 5,\n",
       "         'ROVER': 5,\n",
       "         'BUICK': 5,\n",
       "         'MAZDA': 5,\n",
       "         'MERCU': 4,\n",
       "         'JAGUA': 3,\n",
       "         'SMART': 3,\n",
       "         'PORSC': 3,\n",
       "         'WORKH': 2,\n",
       "         'SATUR': 2,\n",
       "         'SCION': 2,\n",
       "         'SAAB': 2,\n",
       "         'HINO': 2,\n",
       "         'FIR': 1,\n",
       "         'OLDSM': 1,\n",
       "         'PETER': 1,\n",
       "         'CITRO': 1,\n",
       "         'GEO': 1,\n",
       "         'YAMAH': 1,\n",
       "         'BSA': 1,\n",
       "         'MINI': 1,\n",
       "         'PONTI': 1,\n",
       "         'SPRI': 1,\n",
       "         'PLYMO': 1,\n",
       "         'UPS': 1,\n",
       "         'FIAT': 1,\n",
       "         'UD': 1,\n",
       "         'UTILI': 1,\n",
       "         'GMCQ': 1,\n",
       "         'STAR': 1,\n",
       "         'AM/T': 1,\n",
       "         'MI/F': 1})"
      ]
     },
     "execution_count": 94,
     "metadata": {},
     "output_type": "execute_result"
    }
   ],
   "execution_count": 94
  },
  {
   "metadata": {
    "ExecuteTime": {
     "end_time": "2024-10-28T19:14:18.540943Z",
     "start_time": "2024-10-28T19:14:18.536341Z"
    }
   },
   "cell_type": "code",
   "source": [
    "test = next(nyc_park_tick)\n",
    "test.vehicle_make"
   ],
   "id": "141d82f2e3cdbc4c",
   "outputs": [
    {
     "data": {
      "text/plain": [
       "'FORD'"
      ]
     },
     "execution_count": 71,
     "metadata": {},
     "output_type": "execute_result"
    }
   ],
   "execution_count": 71
  },
  {
   "metadata": {
    "ExecuteTime": {
     "end_time": "2024-10-28T19:14:18.548794Z",
     "start_time": "2024-10-28T19:14:18.544697Z"
    }
   },
   "cell_type": "code",
   "source": [
    "def violations_by_car_mark(park_ticks):\n",
    "    cars_violat = {}\n",
    "    for tck in park_ticks:\n",
    "        if tck.vehicle_make not in cars_violat.keys():\n",
    "            cars_violat[tck.vehicle_make] = 1\n",
    "        else:\n",
    "            cars_violat[tck.vehicle_make] += 1\n",
    "    return cars_violat"
   ],
   "id": "db8a3d39007e3fa5",
   "outputs": [],
   "execution_count": 72
  },
  {
   "metadata": {
    "ExecuteTime": {
     "end_time": "2024-10-28T19:14:18.589023Z",
     "start_time": "2024-10-28T19:14:18.564554Z"
    }
   },
   "cell_type": "code",
   "source": [
    "nyc_park_tick = parking_ticket()\n",
    "violations_by_car_mark(nyc_park_tick)"
   ],
   "id": "878c2c2a7c7d4671",
   "outputs": [
    {
     "data": {
      "text/plain": [
       "{'BMW': 34,\n",
       " 'CHEVR': 76,\n",
       " 'DODGE': 45,\n",
       " 'FORD': 104,\n",
       " 'FRUEH': 44,\n",
       " 'HONDA': 106,\n",
       " 'LINCO': 12,\n",
       " 'TOYOT': 112,\n",
       " 'CADIL': 9,\n",
       " 'CHRYS': 12,\n",
       " 'FIR': 1,\n",
       " 'GMC': 35,\n",
       " 'HYUND': 35,\n",
       " 'JAGUA': 3,\n",
       " 'JEEP': 22,\n",
       " 'LEXUS': 26,\n",
       " 'ME/BE': 38,\n",
       " 'MERCU': 4,\n",
       " 'MITSU': 11,\n",
       " 'NISSA': 70,\n",
       " 'HIN': 6,\n",
       " 'NS/OT': 18,\n",
       " 'WORKH': 2,\n",
       " 'ACURA': 12,\n",
       " 'AUDI': 12,\n",
       " 'INTER': 25,\n",
       " 'ISUZU': 10,\n",
       " 'KENWO': 5,\n",
       " 'KIA': 8,\n",
       " 'OLDSM': 1,\n",
       " 'SUBAR': 18,\n",
       " 'VOLVO': 12,\n",
       " 'SATUR': 2,\n",
       " 'SMART': 3,\n",
       " 'INFIN': 13,\n",
       " 'PETER': 1,\n",
       " '': 5,\n",
       " 'CITRO': 1,\n",
       " 'ROVER': 5,\n",
       " 'BUICK': 5,\n",
       " 'GEO': 1,\n",
       " 'MAZDA': 5,\n",
       " 'PORSC': 3,\n",
       " 'VOLKS': 8,\n",
       " 'YAMAH': 1,\n",
       " 'BSA': 1,\n",
       " 'MINI': 1,\n",
       " 'PONTI': 1,\n",
       " 'SPRI': 1,\n",
       " 'PLYMO': 1,\n",
       " 'SCION': 2,\n",
       " 'UPS': 1,\n",
       " 'FIAT': 1,\n",
       " 'UD': 1,\n",
       " 'UTILI': 1,\n",
       " 'GMCQ': 1,\n",
       " 'SAAB': 2,\n",
       " 'HINO': 2,\n",
       " 'STAR': 1,\n",
       " 'AM/T': 1,\n",
       " 'MI/F': 1}"
      ]
     },
     "execution_count": 73,
     "metadata": {},
     "output_type": "execute_result"
    }
   ],
   "execution_count": 73
  },
  {
   "metadata": {
    "ExecuteTime": {
     "end_time": "2024-10-28T19:14:18.611096Z",
     "start_time": "2024-10-28T19:14:18.602746Z"
    }
   },
   "cell_type": "code",
   "source": [
    "from datetime import datetime\n",
    "\n",
    "\n",
    "def get_clean_read(file):\n",
    "    with open(file) as f:\n",
    "        for line in f:\n",
    "            yield line.strip('\\n').split(',')\n",
    "\n",
    "\n",
    "def cast_data_to_type(value):\n",
    "    def try_cast():\n",
    "        yield int, lambda x: int(x)\n",
    "        yield datetime.date, lambda x: datetime.strptime(x, '%m/%d/%Y').date()\n",
    "        yield str, lambda x: str(x)\n",
    "\n",
    "    for expexted_type, cast_fn in try_cast():\n",
    "        try:\n",
    "            return cast_fn(value)\n",
    "        except ValueError:\n",
    "            continue\n",
    "\n",
    "\n",
    "def cast_row(data_row):\n",
    "    return [cast_data_to_type(v) for v in data_row]\n",
    "\n",
    "\n",
    "def parking_ticket(file='nyc_parking_tickets_extract.csv'):\n",
    "    data = get_clean_read(file)\n",
    "    headers = [n.replace(' ', '_').lower() for n in next(data)]\n",
    "    ParkingTicket = namedtuple('ParkingTicket', headers)\n",
    "    for line in data:\n",
    "        yield ParkingTicket(*cast_row(line))\n"
   ],
   "id": "4ff996b0e8fcf616",
   "outputs": [],
   "execution_count": 74
  },
  {
   "metadata": {
    "ExecuteTime": {
     "end_time": "2024-10-28T19:14:18.622900Z",
     "start_time": "2024-10-28T19:14:18.619360Z"
    }
   },
   "cell_type": "code",
   "source": "p = parking_ticket()",
   "id": "89935c4e9b818a9a",
   "outputs": [],
   "execution_count": 75
  },
  {
   "metadata": {
    "ExecuteTime": {
     "end_time": "2024-10-28T19:14:18.641085Z",
     "start_time": "2024-10-28T19:14:18.634832Z"
    }
   },
   "cell_type": "code",
   "source": "next(p), next(p)",
   "id": "c00a7eee853436e9",
   "outputs": [
    {
     "data": {
      "text/plain": [
       "(ParkingTicket(summons_number=4006478550, plate_id='VAD7274', registration_state='VA', plate_type='PAS', issue_date=datetime.date(2016, 10, 5), violation_code=5, vehicle_body_type='4D', vehicle_make='BMW', violation_description='BUS LANE VIOLATION'),\n",
       " ParkingTicket(summons_number=4006462396, plate_id='22834JK', registration_state='NY', plate_type='COM', issue_date=datetime.date(2016, 9, 30), violation_code=5, vehicle_body_type='VAN', vehicle_make='CHEVR', violation_description='BUS LANE VIOLATION'))"
      ]
     },
     "execution_count": 76,
     "metadata": {},
     "output_type": "execute_result"
    }
   ],
   "execution_count": 76
  },
  {
   "metadata": {
    "ExecuteTime": {
     "end_time": "2024-10-28T19:25:02.878396Z",
     "start_time": "2024-10-28T19:25:02.866614Z"
    }
   },
   "cell_type": "code",
   "source": [
    "def violations_by_car_mark(park_ticks):\n",
    "    cars_violat = {}\n",
    "    for tck in park_ticks:\n",
    "        cars_violat[tck.vehicle_make] = cars_violat.get(tck.vehicle_make, 0) + 1\n",
    "    return cars_violat"
   ],
   "id": "8678107b44025fa",
   "outputs": [],
   "execution_count": 86
  },
  {
   "metadata": {
    "ExecuteTime": {
     "end_time": "2024-10-28T19:28:59.644483Z",
     "start_time": "2024-10-28T19:28:59.631578Z"
    }
   },
   "cell_type": "code",
   "source": [
    "from collections import Counter\n",
    "\n",
    "\n",
    "def violations_by_car_mark(park_ticks):\n",
    "    return Counter(tck.vehicle_make for tck in park_ticks)"
   ],
   "id": "40c5898e9c5a0947",
   "outputs": [],
   "execution_count": 90
  },
  {
   "metadata": {
    "ExecuteTime": {
     "end_time": "2024-10-28T19:29:02.218844Z",
     "start_time": "2024-10-28T19:29:01.997796Z"
    }
   },
   "cell_type": "code",
   "source": [
    "nyc_park_tick = parking_ticket()\n",
    "sorted(violations_by_car_mark(nyc_park_tick).items(), key=lambda x: x[1], reverse=True)"
   ],
   "id": "5c801018442bdf59",
   "outputs": [
    {
     "data": {
      "text/plain": [
       "[('TOYOT', 112),\n",
       " ('HONDA', 106),\n",
       " ('FORD', 104),\n",
       " ('CHEVR', 76),\n",
       " ('NISSA', 70),\n",
       " ('DODGE', 45),\n",
       " ('FRUEH', 44),\n",
       " ('ME/BE', 38),\n",
       " ('GMC', 35),\n",
       " ('HYUND', 35),\n",
       " ('BMW', 34),\n",
       " ('LEXUS', 26),\n",
       " ('INTER', 25),\n",
       " ('JEEP', 22),\n",
       " ('NS/OT', 18),\n",
       " ('SUBAR', 18),\n",
       " ('INFIN', 13),\n",
       " ('LINCO', 12),\n",
       " ('CHRYS', 12),\n",
       " ('ACURA', 12),\n",
       " ('AUDI', 12),\n",
       " ('VOLVO', 12),\n",
       " ('MITSU', 11),\n",
       " ('ISUZU', 10),\n",
       " ('CADIL', 9),\n",
       " ('KIA', 8),\n",
       " ('VOLKS', 8),\n",
       " ('HIN', 6),\n",
       " ('KENWO', 5),\n",
       " ('', 5),\n",
       " ('ROVER', 5),\n",
       " ('BUICK', 5),\n",
       " ('MAZDA', 5),\n",
       " ('MERCU', 4),\n",
       " ('JAGUA', 3),\n",
       " ('SMART', 3),\n",
       " ('PORSC', 3),\n",
       " ('WORKH', 2),\n",
       " ('SATUR', 2),\n",
       " ('SCION', 2),\n",
       " ('SAAB', 2),\n",
       " ('HINO', 2),\n",
       " ('FIR', 1),\n",
       " ('OLDSM', 1),\n",
       " ('PETER', 1),\n",
       " ('CITRO', 1),\n",
       " ('GEO', 1),\n",
       " ('YAMAH', 1),\n",
       " ('BSA', 1),\n",
       " ('MINI', 1),\n",
       " ('PONTI', 1),\n",
       " ('SPRI', 1),\n",
       " ('PLYMO', 1),\n",
       " ('UPS', 1),\n",
       " ('FIAT', 1),\n",
       " ('UD', 1),\n",
       " ('UTILI', 1),\n",
       " ('GMCQ', 1),\n",
       " ('STAR', 1),\n",
       " ('AM/T', 1),\n",
       " ('MI/F', 1)]"
      ]
     },
     "execution_count": 91,
     "metadata": {},
     "output_type": "execute_result"
    }
   ],
   "execution_count": 91
  },
  {
   "metadata": {},
   "cell_type": "code",
   "outputs": [],
   "execution_count": null,
   "source": [
    "try_cast = [('DATE', lambda x: datetime.strptime(x, '%m/%d/%Y').date()), ('INT', lambda x: int(x)),\n",
    "            ('STR', lambda x: str(x))]\n",
    "\n",
    "\n",
    "def my_cast(value: str):\n",
    "    for exp_type, cast_fn in try_cast():\n",
    "        try:\n",
    "            return cast_fn(value)\n",
    "        except ValueError:\n",
    "            continue"
   ],
   "id": "459d7cb2930cea7a"
  }
 ],
 "metadata": {
  "kernelspec": {
   "display_name": "Python 3",
   "language": "python",
   "name": "python3"
  },
  "language_info": {
   "codemirror_mode": {
    "name": "ipython",
    "version": 2
   },
   "file_extension": ".py",
   "mimetype": "text/x-python",
   "name": "python",
   "nbconvert_exporter": "python",
   "pygments_lexer": "ipython2",
   "version": "2.7.6"
  }
 },
 "nbformat": 4,
 "nbformat_minor": 5
}
