{
 "cells": [
  {
   "cell_type": "code",
   "id": "initial_id",
   "metadata": {
    "collapsed": true,
    "ExecuteTime": {
     "end_time": "2024-10-28T18:33:54.028466Z",
     "start_time": "2024-10-28T18:33:54.022199Z"
    }
   },
   "source": [
    "def gen_clean_read(file):\n",
    "    with open(file) as f:\n",
    "        for line in f:\n",
    "            yield line.strip('\\n').split(',')"
   ],
   "outputs": [],
   "execution_count": 131
  },
  {
   "metadata": {
    "ExecuteTime": {
     "end_time": "2024-10-28T18:34:16.861821Z",
     "start_time": "2024-10-28T18:34:16.853296Z"
    }
   },
   "cell_type": "code",
   "source": [
    "file = gen_clean_read('nyc_parking_tickets_extract.csv')\n",
    "headers = [n.replace(' ','_').lower() for n in next(file)]\n",
    "headers"
   ],
   "id": "607a0c4e3a19206e",
   "outputs": [
    {
     "data": {
      "text/plain": [
       "['summons_number',\n",
       " 'plate_id',\n",
       " 'registration_state',\n",
       " 'plate_type',\n",
       " 'issue_date',\n",
       " 'violation_code',\n",
       " 'vehicle_body_type',\n",
       " 'vehicle_make',\n",
       " 'violation_description']"
      ]
     },
     "execution_count": 134,
     "metadata": {},
     "output_type": "execute_result"
    }
   ],
   "execution_count": 134
  },
  {
   "metadata": {
    "ExecuteTime": {
     "end_time": "2024-10-28T18:33:59.867890Z",
     "start_time": "2024-10-28T18:33:59.854029Z"
    }
   },
   "cell_type": "code",
   "source": [
    "from collections import namedtuple\n",
    "\n",
    "ParkingTicket = namedtuple('ParkingTickets', headers)\n",
    "data = next(file)\n",
    "[n for n in data]"
   ],
   "id": "f45dc2f3fae997ee",
   "outputs": [
    {
     "data": {
      "text/plain": [
       "['4006478550',\n",
       " 'VAD7274',\n",
       " 'VA',\n",
       " 'PAS',\n",
       " '10/5/2016',\n",
       " '5',\n",
       " '4D',\n",
       " 'BMW',\n",
       " 'BUS LANE VIOLATION']"
      ]
     },
     "execution_count": 133,
     "metadata": {},
     "output_type": "execute_result"
    }
   ],
   "execution_count": 133
  },
  {
   "metadata": {
    "ExecuteTime": {
     "end_time": "2024-10-28T17:45:01.031477Z",
     "start_time": "2024-10-28T17:45:01.017509Z"
    }
   },
   "cell_type": "code",
   "source": [
    "from datetime import datetime\n",
    "\n",
    "data_type = ('INT', 'STR', 'STR', 'STR', 'DATE', 'INT', 'STR', 'STR', 'STR')\n",
    "\n",
    "_cast_data_to_type_key = {'DATE': lambda x: datetime.strptime(x, '%d/%m/%Y'), 'INT': lambda x: int(x)}\n",
    "\n",
    "\n",
    "def cast_data_to_type(data_type, value):\n",
    "    return _cast_data_to_type_key.get(data_type, lambda x: str(x))(value)\n",
    "\n",
    "\n",
    "def cast_row(data_types, data_row):\n",
    "    return [cast_data_to_type(dt, v) for dt, v in zip(data_types, data_row)]\n",
    "\n",
    "\n",
    "data = cast_row(data_type, data)\n",
    "data"
   ],
   "id": "41e1755f5258ee40",
   "outputs": [
    {
     "data": {
      "text/plain": [
       "[4006478550,\n",
       " 'VAD7274',\n",
       " 'VA',\n",
       " 'PAS',\n",
       " datetime.datetime(2016, 5, 10, 0, 0),\n",
       " 5,\n",
       " '4D',\n",
       " 'BMW',\n",
       " 'BUS LANE VIOLATION']"
      ]
     },
     "execution_count": 127,
     "metadata": {},
     "output_type": "execute_result"
    }
   ],
   "execution_count": 127
  },
  {
   "metadata": {
    "ExecuteTime": {
     "end_time": "2024-10-28T17:48:35.436770Z",
     "start_time": "2024-10-28T17:48:35.421582Z"
    }
   },
   "cell_type": "code",
   "source": [
    "park_tick = ParkingTicket(*data)\n",
    "park_tick"
   ],
   "id": "26276c83f7da1beb",
   "outputs": [
    {
     "data": {
      "text/plain": [
       "ParkingTickets(SummonsNumber=4006478550, PlateID='VAD7274', RegistrationState='VA', PlateType='PAS', IssueDate=datetime.datetime(2016, 5, 10, 0, 0), ViolationCode=5, VehicleBodyType='4D', VehicleMake='BMW', ViolationDescription='BUS LANE VIOLATION')"
      ]
     },
     "execution_count": 130,
     "metadata": {},
     "output_type": "execute_result"
    }
   ],
   "execution_count": 130
  },
  {
   "metadata": {},
   "cell_type": "code",
   "outputs": [],
   "execution_count": null,
   "source": "",
   "id": "12ed87bea52eb03d"
  }
 ],
 "metadata": {
  "kernelspec": {
   "display_name": "Python 3",
   "language": "python",
   "name": "python3"
  },
  "language_info": {
   "codemirror_mode": {
    "name": "ipython",
    "version": 2
   },
   "file_extension": ".py",
   "mimetype": "text/x-python",
   "name": "python",
   "nbconvert_exporter": "python",
   "pygments_lexer": "ipython2",
   "version": "2.7.6"
  }
 },
 "nbformat": 4,
 "nbformat_minor": 5
}
