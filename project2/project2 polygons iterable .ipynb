{
 "cells": [
  {
   "metadata": {
    "ExecuteTime": {
     "end_time": "2024-10-25T13:13:33.902785Z",
     "start_time": "2024-10-25T13:13:33.887491Z"
    }
   },
   "cell_type": "code",
   "source": [
    "import math\n",
    "\n",
    "\n",
    "class Polygon:\n",
    "    def __init__(self, num_of_vertices, circum_radius):\n",
    "        if num_of_vertices < 3:\n",
    "            raise ValueError(\"num_of_vertices must be greater than or equal to 3.\")\n",
    "        self._n = num_of_vertices\n",
    "        self._R = circum_radius\n",
    "\n",
    "        self._interior_angel = None\n",
    "        self._edge_length = None\n",
    "        self._apothem = None\n",
    "        self._area = None\n",
    "        self._perimeter = None\n",
    "\n",
    "    @property\n",
    "    def circum_radius(self):\n",
    "        return self._R\n",
    "\n",
    "    @property\n",
    "    def edges(self):\n",
    "        return self._n\n",
    "\n",
    "    @property\n",
    "    def vertices(self):\n",
    "        return self._n\n",
    "\n",
    "    @property\n",
    "    def interior_angel(self):\n",
    "        if self._interior_angel is None:\n",
    "            print(\"Calculating interior angel\")\n",
    "            self._interior_angel = (self._n - 2) * 180 / self._n\n",
    "        return self._interior_angel\n",
    "\n",
    "    @property\n",
    "    def edge_length(self):\n",
    "        if self._edge_length is None:\n",
    "            print(\"Calculating edge length\")\n",
    "            self._edge_length = 2 * self._R * math.sin(math.pi / self._n)\n",
    "        return self._edge_length\n",
    "\n",
    "    @property\n",
    "    def apothem(self):\n",
    "        if self._apothem is None:\n",
    "            print(\"Calculating apothem\")\n",
    "            self._apothem = self._R * math.cos(math.pi / self._n)\n",
    "        return self._apothem\n",
    "\n",
    "    @property\n",
    "    def area(self):\n",
    "        if self._area is None:\n",
    "            print(\"Calculating area\")\n",
    "            self._area = self._n / 2 * self.edge_length * self.apothem\n",
    "        return self._area\n",
    "\n",
    "    @property\n",
    "    def perimeter(self):\n",
    "        if self._perimeter is None:\n",
    "            print(\"Calculating perimeter\")\n",
    "            self._perimeter = self._n * self.edge_length\n",
    "        return self._perimeter\n",
    "\n",
    "    def __repr__(self):\n",
    "        return f'Polygon({self._n},{self._R})'\n",
    "        # return f'Polygon:num_of_vertices n {self._n},circum_radius R {self._R}\\n\\t interior angel: {self.interior_angel}\\n\\t edge length S: {self.edge_length}\\n\\t apothem a:{self.apothem}\\n area {self.area} perimeter {self.perimeter}'\n",
    "\n",
    "    def __eq__(self, other):\n",
    "        if isinstance(other, Polygon):\n",
    "            return self._n == other._n and self._R == other._R\n",
    "        else:\n",
    "            raise TypeError\n",
    "\n",
    "    def __gt__(self, other):\n",
    "        if isinstance(other, Polygon):\n",
    "            return self._n > other._n\n",
    "        else:\n",
    "            return NotImplemented\n"
   ],
   "id": "710898bc0bf5a637",
   "outputs": [],
   "execution_count": 36
  },
  {
   "metadata": {
    "ExecuteTime": {
     "end_time": "2024-10-25T13:03:57.606181Z",
     "start_time": "2024-10-25T13:03:57.592186Z"
    }
   },
   "cell_type": "code",
   "source": [
    "def test_polygon():\n",
    "    abs_tol = 0.001\n",
    "    rel_tol = 0.001\n",
    "\n",
    "    try:\n",
    "        p = Polygon(2, 10)\n",
    "        assert False, ('Creating a Polygon with 2 sides: '\n",
    "                       ' Exception expected, not received')\n",
    "    except ValueError:\n",
    "        pass\n",
    "\n",
    "    n = 3\n",
    "    R = 1\n",
    "\n",
    "    p = Polygon(n, R)\n",
    "    assert p.interior_angel == 60, (f'actual:{p.interior_angel},expected:60')\n",
    "    assert p.edges == n, (f'actual:{p.edges},expected:{n}')\n",
    "    assert p.vertices == n, (f'actual:{p.vertices},expected:{n}')\n",
    "\n",
    "    n = 4\n",
    "    R = 1\n",
    "    p = Polygon(n, R)\n",
    "    assert p.interior_angel == 90, (f'actual: {p.interior_angel}, '\n",
    "                                    f' expected: 90')\n",
    "    assert p.area == 2.0, (f'actual: {p.area}, '\n",
    "                           'expected: 2.0')\n",
    "    assert math.isclose(p.perimeter, 4 * math.sqrt(2),\n",
    "                        rel_tol=rel_tol,\n",
    "                        abs_tol=abs_tol), (f'actual: {p.perimeter},'\n",
    "                                           f' expected: {4 * math.sqrt(2)}')\n",
    "\n",
    "    assert math.isclose(p.apothem, 0.707,\n",
    "                        rel_tol=rel_tol,\n",
    "                        abs_tol=abs_tol), (f'actual: {p.perimeter},'\n",
    "                                           ' expected: 0.707')\n",
    "\n",
    "    p = Polygon(6, 2)\n",
    "    assert math.isclose(p.edge_length, 2,\n",
    "                        rel_tol=rel_tol, abs_tol=abs_tol)\n",
    "    assert math.isclose(p.apothem, 1.73205,\n",
    "                        rel_tol=rel_tol, abs_tol=abs_tol)\n",
    "    assert math.isclose(p.area, 10.3923,\n",
    "                        rel_tol=rel_tol, abs_tol=abs_tol)\n",
    "    assert math.isclose(p.perimeter, 12,\n",
    "                        rel_tol=rel_tol, abs_tol=abs_tol)\n",
    "    assert math.isclose(p.interior_angel, 120,\n",
    "                        rel_tol=rel_tol, abs_tol=abs_tol)\n",
    "\n",
    "    p = Polygon(12, 3)\n",
    "    assert math.isclose(p.edge_length, 1.55291,\n",
    "                        rel_tol=rel_tol, abs_tol=abs_tol)\n",
    "    assert math.isclose(p.apothem, 2.89778,\n",
    "                        rel_tol=rel_tol, abs_tol=abs_tol)\n",
    "    assert math.isclose(p.area, 27,\n",
    "                        rel_tol=rel_tol, abs_tol=abs_tol)\n",
    "    assert math.isclose(p.perimeter, 18.635,\n",
    "                        rel_tol=rel_tol, abs_tol=abs_tol)\n",
    "    assert math.isclose(p.interior_angel, 150,\n",
    "                        rel_tol=rel_tol, abs_tol=abs_tol)\n",
    "\n",
    "    p1 = Polygon(3, 10)\n",
    "    p2 = Polygon(10, 10)\n",
    "    p3 = Polygon(15, 10)\n",
    "    p4 = Polygon(15, 100)\n",
    "    p5 = Polygon(15, 100)\n",
    "\n",
    "    assert p2 > p1\n",
    "    assert p2 < p3\n",
    "    assert p3 != p4\n",
    "    assert p1 != p4\n",
    "    assert p4 == p5"
   ],
   "id": "71ee0dd7169c53dc",
   "outputs": [],
   "execution_count": 19
  },
  {
   "metadata": {
    "ExecuteTime": {
     "end_time": "2024-10-25T13:04:03.037486Z",
     "start_time": "2024-10-25T13:04:03.027540Z"
    }
   },
   "cell_type": "code",
   "source": "test_polygon()",
   "id": "14ed9e772faeb5c8",
   "outputs": [
    {
     "name": "stdout",
     "output_type": "stream",
     "text": [
      "Calculating interior angel\n",
      "Calculating interior angel\n",
      "Calculating area\n",
      "Calculating edge length\n",
      "Calculating apothem\n",
      "Calculating perimeter\n",
      "Calculating edge length\n",
      "Calculating apothem\n",
      "Calculating area\n",
      "Calculating perimeter\n",
      "Calculating interior angel\n",
      "Calculating edge length\n",
      "Calculating apothem\n",
      "Calculating area\n",
      "Calculating perimeter\n",
      "Calculating interior angel\n"
     ]
    }
   ],
   "execution_count": 20
  },
  {
   "metadata": {
    "ExecuteTime": {
     "end_time": "2024-10-25T13:30:58.896670Z",
     "start_time": "2024-10-25T13:30:58.890470Z"
    }
   },
   "cell_type": "code",
   "source": [
    "class Polygons:\n",
    "    def __init__(self, max_num_of_vertices, circum_radius):\n",
    "        self._max_num_of_vertices = max_num_of_vertices\n",
    "        self._R = circum_radius\n",
    "\n",
    "    def __iter__(self):\n",
    "        return self.PolygonsIterator(self._max_num_of_vertices, self._R)\n",
    "\n",
    "    @property\n",
    "    def max_efficiency_plgn(self):\n",
    "        return max(self.PolygonsIterator(self._max_num_of_vertices, self._R), key=lambda plg: plg.area / plg.perimeter)\n",
    "\n",
    "    class PolygonsIterator():\n",
    "        def __init__(self, max_num_of_vertices, circum_radius):\n",
    "            self._max_num_of_vertices = max_num_of_vertices\n",
    "            self._R = circum_radius\n",
    "            self._index = 3\n",
    "\n",
    "        def __iter__(self):\n",
    "            return self\n",
    "\n",
    "        def __next__(self):\n",
    "            if self._index > self._max_num_of_vertices:\n",
    "                raise StopIteration\n",
    "            else:\n",
    "                plgn = Polygon(self._index, self._R)\n",
    "                self._index += 1\n",
    "                return plgn\n"
   ],
   "id": "ec5c245d169a1fa3",
   "outputs": [],
   "execution_count": 58
  },
  {
   "metadata": {
    "ExecuteTime": {
     "end_time": "2024-10-25T13:24:36.160181Z",
     "start_time": "2024-10-25T13:24:36.150649Z"
    }
   },
   "cell_type": "code",
   "source": [
    "plgns = Polygons(10, 1)\n",
    "for plgn in plgns:\n",
    "    print(plgn)"
   ],
   "id": "e0514991b61a19fb",
   "outputs": [
    {
     "name": "stdout",
     "output_type": "stream",
     "text": [
      "Polygon(3,1)\n",
      "Polygon(4,1)\n",
      "Polygon(5,1)\n",
      "Polygon(6,1)\n",
      "Polygon(7,1)\n",
      "Polygon(8,1)\n",
      "Polygon(9,1)\n",
      "Polygon(10,1)\n"
     ]
    }
   ],
   "execution_count": 56
  },
  {
   "metadata": {
    "ExecuteTime": {
     "end_time": "2024-10-25T13:24:39.308339Z",
     "start_time": "2024-10-25T13:24:39.300679Z"
    }
   },
   "cell_type": "code",
   "source": "plgns.max_efficiency_plgn",
   "id": "6aa70907e4bffc39",
   "outputs": [
    {
     "name": "stdout",
     "output_type": "stream",
     "text": [
      "Calculating area\n",
      "Calculating edge length\n",
      "Calculating apothem\n",
      "Calculating perimeter\n",
      "Calculating area\n",
      "Calculating edge length\n",
      "Calculating apothem\n",
      "Calculating perimeter\n",
      "Calculating area\n",
      "Calculating edge length\n",
      "Calculating apothem\n",
      "Calculating perimeter\n",
      "Calculating area\n",
      "Calculating edge length\n",
      "Calculating apothem\n",
      "Calculating perimeter\n",
      "Calculating area\n",
      "Calculating edge length\n",
      "Calculating apothem\n",
      "Calculating perimeter\n",
      "Calculating area\n",
      "Calculating edge length\n",
      "Calculating apothem\n",
      "Calculating perimeter\n",
      "Calculating area\n",
      "Calculating edge length\n",
      "Calculating apothem\n",
      "Calculating perimeter\n",
      "Calculating area\n",
      "Calculating edge length\n",
      "Calculating apothem\n",
      "Calculating perimeter\n"
     ]
    },
    {
     "data": {
      "text/plain": [
       "Polygon(10,1)"
      ]
     },
     "execution_count": 57,
     "metadata": {},
     "output_type": "execute_result"
    }
   ],
   "execution_count": 57
  },
  {
   "metadata": {
    "ExecuteTime": {
     "end_time": "2024-10-18T14:33:40.397494Z",
     "start_time": "2024-10-18T14:33:40.391937Z"
    }
   },
   "cell_type": "code",
   "source": "",
   "id": "a254c496aeaa82b4",
   "outputs": [
    {
     "data": {
      "text/plain": [
       "5"
      ]
     },
     "execution_count": 66,
     "metadata": {},
     "output_type": "execute_result"
    }
   ],
   "execution_count": 66
  },
  {
   "metadata": {
    "ExecuteTime": {
     "end_time": "2024-10-18T14:34:22.214488Z",
     "start_time": "2024-10-18T14:34:22.204599Z"
    }
   },
   "cell_type": "code",
   "source": "",
   "id": "f2ce2f67a56a6ba6",
   "outputs": [
    {
     "data": {
      "text/plain": [
       "[Polygon(4,3), Polygon(5,3)]"
      ]
     },
     "execution_count": 69,
     "metadata": {},
     "output_type": "execute_result"
    }
   ],
   "execution_count": 69
  },
  {
   "metadata": {
    "ExecuteTime": {
     "end_time": "2024-10-18T15:24:57.064121Z",
     "start_time": "2024-10-18T15:24:57.046152Z"
    }
   },
   "cell_type": "code",
   "source": "",
   "id": "1faa3fc9104f367c",
   "outputs": [
    {
     "data": {
      "text/plain": [
       "Polygon(8,8)"
      ]
     },
     "execution_count": 148,
     "metadata": {},
     "output_type": "execute_result"
    }
   ],
   "execution_count": 148
  },
  {
   "metadata": {},
   "cell_type": "code",
   "outputs": [],
   "execution_count": null,
   "source": "",
   "id": "52691b93f312e9d6"
  }
 ],
 "metadata": {
  "kernelspec": {
   "display_name": "Python 3",
   "language": "python",
   "name": "python3"
  },
  "language_info": {
   "codemirror_mode": {
    "name": "ipython",
    "version": 2
   },
   "file_extension": ".py",
   "mimetype": "text/x-python",
   "name": "python",
   "nbconvert_exporter": "python",
   "pygments_lexer": "ipython2",
   "version": "2.7.6"
  }
 },
 "nbformat": 4,
 "nbformat_minor": 5
}
