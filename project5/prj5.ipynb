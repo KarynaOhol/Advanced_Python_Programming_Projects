{
 "cells": [
  {
   "cell_type": "code",
   "id": "initial_id",
   "metadata": {
    "collapsed": true,
    "ExecuteTime": {
     "end_time": "2024-11-12T11:49:17.264748Z",
     "start_time": "2024-11-12T11:49:17.235031Z"
    }
   },
   "source": [
    "import csv\n",
    "import sys\n",
    "from collections import namedtuple\n",
    "from itertools import islice\n",
    "\n",
    "\n",
    "class ContextManagerIterator():\n",
    "    def __init__(self, fname):\n",
    "        self.fname = fname\n",
    "        self._f = None\n",
    "        self._dialect = None\n",
    "        self._headers = None\n",
    "\n",
    "    def __iter__(self):\n",
    "        return self\n",
    "\n",
    "    def __next__(self):\n",
    "        return next(self._f)\n",
    "\n",
    "    def __enter__(self):\n",
    "        self._f = open(self.fname, 'r')\n",
    "        return self\n",
    "\n",
    "    def __exit__(self, exc_type, exc_value, exc_traceback):\n",
    "        if not self._f.closed:\n",
    "            self._f.close()\n",
    "        return False\n",
    "\n",
    "    @property\n",
    "    def dialect(self):\n",
    "        self._dialect = csv.Sniffer().sniff(self._f.read(1024))\n",
    "        return self._dialect\n",
    "\n",
    "    @property\n",
    "    def headers(self):\n",
    "        self._f.seek(0)\n",
    "        reader = csv.reader(self._f, self._dialect)\n",
    "        self._headers = next(reader)\n",
    "        return self._headers\n",
    "\n",
    "        # dialect = csv.Sniffer().sniff(self._f.read(1024))\n",
    "    # reader = csv.reader(self._f, dialect)\n",
    "    # print(next(reader))\n",
    "    # Data = namedtuple('Data', next(reader))\n",
    "    # for row in reader:\n",
    "    #     return Data(*row)\n",
    "\n"
   ],
   "outputs": [],
   "execution_count": 78
  },
  {
   "metadata": {
    "ExecuteTime": {
     "end_time": "2024-11-12T11:49:19.771768Z",
     "start_time": "2024-11-12T11:49:19.753502Z"
    }
   },
   "cell_type": "code",
   "source": [
    "with ContextManagerIterator('cars.csv') as data:\n",
    "    reader = csv.reader(data, data.dialect)\n",
    "    Data = namedtuple('Data', data.headers)\n",
    "    for row in islice(reader, 3):\n",
    "        print(Data(*row))"
   ],
   "id": "c47458a89b00ac3c",
   "outputs": [
    {
     "name": "stdout",
     "output_type": "stream",
     "text": [
      "Data(Car='Chevrolet Chevelle Malibu', MPG='18.0', Cylinders='8', Displacement='307.0', Horsepower='130.0', Weight='3504.', Acceleration='12.0', Model='70', Origin='US')\n",
      "Data(Car='Buick Skylark 320', MPG='15.0', Cylinders='8', Displacement='350.0', Horsepower='165.0', Weight='3693.', Acceleration='11.5', Model='70', Origin='US')\n",
      "Data(Car='Plymouth Satellite', MPG='18.0', Cylinders='8', Displacement='318.0', Horsepower='150.0', Weight='3436.', Acceleration='11.0', Model='70', Origin='US')\n"
     ]
    }
   ],
   "execution_count": 79
  },
  {
   "metadata": {
    "ExecuteTime": {
     "end_time": "2024-11-12T11:49:29.551841Z",
     "start_time": "2024-11-12T11:49:29.533252Z"
    }
   },
   "cell_type": "code",
   "source": [
    "with ContextManagerIterator('personal_info.csv') as data:\n",
    "    reader = csv.reader(data, data.dialect)\n",
    "    Data = namedtuple('Data', data.headers)\n",
    "    for row in islice(reader, 3):\n",
    "        print(Data(*row))"
   ],
   "id": "53331640162e34ff",
   "outputs": [
    {
     "name": "stdout",
     "output_type": "stream",
     "text": [
      "Data(ssn='100-53-9824', first_name='Sebastiano', last_name='Tester', gender='Male', language='Icelandic')\n",
      "Data(ssn='101-71-4702', first_name='Cayla', last_name='MacDonagh', gender='Female', language='Lao')\n",
      "Data(ssn='101-84-0356', first_name='Nomi', last_name='Lipprose', gender='Female', language='Yiddish')\n"
     ]
    }
   ],
   "execution_count": 80
  },
  {
   "metadata": {
    "ExecuteTime": {
     "end_time": "2024-11-12T12:11:11.796491Z",
     "start_time": "2024-11-12T12:11:11.783914Z"
    }
   },
   "cell_type": "code",
   "source": [
    "from contextlib import contextmanager\n",
    "\n",
    "\n",
    "@contextmanager\n",
    "def open_file(fname):\n",
    "    print(f'opening file {fname}')\n",
    "    f = open(fname)\n",
    "    try:\n",
    "        yield f\n",
    "    finally:\n",
    "        print(f'closing file {fname}')\n",
    "        f.close()\n"
   ],
   "id": "262e36a373831289",
   "outputs": [],
   "execution_count": 121
  },
  {
   "metadata": {
    "ExecuteTime": {
     "end_time": "2024-11-12T12:29:42.476774Z",
     "start_time": "2024-11-12T12:29:42.468798Z"
    }
   },
   "cell_type": "code",
   "source": [
    "with open_file('cars.csv') as f:\n",
    "    dialect = csv.Sniffer().sniff(f.read(1024))\n",
    "    f.seek(0)\n",
    "    reader = csv.reader(f, dialect)\n",
    "    headers = next(reader)\n",
    "    Data = namedtuple('Data', headers)\n",
    "    for row in islice(reader, 3):\n",
    "        print(Data(*row))"
   ],
   "id": "a1fcfe4a35e99259",
   "outputs": [
    {
     "name": "stdout",
     "output_type": "stream",
     "text": [
      "opening file cars.csv\n",
      "Data(Car='Chevrolet Chevelle Malibu', MPG='18.0', Cylinders='8', Displacement='307.0', Horsepower='130.0', Weight='3504.', Acceleration='12.0', Model='70', Origin='US')\n",
      "Data(Car='Buick Skylark 320', MPG='15.0', Cylinders='8', Displacement='350.0', Horsepower='165.0', Weight='3693.', Acceleration='11.5', Model='70', Origin='US')\n",
      "Data(Car='Plymouth Satellite', MPG='18.0', Cylinders='8', Displacement='318.0', Horsepower='150.0', Weight='3436.', Acceleration='11.0', Model='70', Origin='US')\n",
      "closing file cars.csv\n"
     ]
    }
   ],
   "execution_count": 136
  },
  {
   "metadata": {
    "ExecuteTime": {
     "end_time": "2024-11-12T12:11:37.309141Z",
     "start_time": "2024-11-12T12:11:37.287098Z"
    }
   },
   "cell_type": "code",
   "source": [
    "with open_file('personal_info.csv') as f:\n",
    "    dialect = csv.Sniffer().sniff(f.read(1024))\n",
    "    f.seek(0)\n",
    "    reader = csv.reader(f, dialect)\n",
    "    headers = next(reader)\n",
    "    Data = namedtuple('Data', headers)\n",
    "    for row in islice(reader, 3):\n",
    "        print(Data(*row))"
   ],
   "id": "356a2d7fe7289cad",
   "outputs": [
    {
     "name": "stdout",
     "output_type": "stream",
     "text": [
      "opening file personal_info.csv\n",
      "Data(ssn='100-53-9824', first_name='Sebastiano', last_name='Tester', gender='Male', language='Icelandic')\n",
      "Data(ssn='101-71-4702', first_name='Cayla', last_name='MacDonagh', gender='Female', language='Lao')\n",
      "Data(ssn='101-84-0356', first_name='Nomi', last_name='Lipprose', gender='Female', language='Yiddish')\n",
      "closing file personal_info.csv\n"
     ]
    }
   ],
   "execution_count": 123
  },
  {
   "metadata": {
    "ExecuteTime": {
     "end_time": "2024-11-12T12:29:05.012304Z",
     "start_time": "2024-11-12T12:29:04.978318Z"
    }
   },
   "cell_type": "code",
   "source": [
    "class ContextManagerIterator():\n",
    "    def __init__(self, fname):\n",
    "        self.fname = fname\n",
    "        self._f = None\n",
    "        self._dialect = None\n",
    "        self._headers = None\n",
    "\n",
    "    def __iter__(self):\n",
    "        return self\n",
    "\n",
    "    def __next__(self):\n",
    "        return self._data(*next(self._reader))\n",
    "\n",
    "    def __enter__(self):\n",
    "        self._f = open(self.fname, 'r')\n",
    "        self._reader = csv.reader(self._f, self.dialect)\n",
    "        self._data = namedtuple('Data', self.headers)\n",
    "        return self\n",
    "\n",
    "    def __exit__(self, exc_type, exc_value, exc_traceback):\n",
    "        if not self._f.closed:\n",
    "            self._f.close()\n",
    "        return False\n",
    "\n",
    "    @property\n",
    "    def dialect(self):\n",
    "        self._dialect = csv.Sniffer().sniff(self._f.read(1024))\n",
    "        return self._dialect\n",
    "\n",
    "    @property\n",
    "    def headers(self):\n",
    "        self._f.seek(0)\n",
    "        reader = csv.reader(self._f, self._dialect)\n",
    "        self._headers = next(reader)\n",
    "        return self._headers\n",
    "\n",
    "        # dialect = csv.Sniffer().sniff(self._f.read(1024))\n",
    "    # reader = csv.reader(self._f, dialect)\n",
    "    # print(next(reader))\n",
    "    # Data = namedtuple('Data', next(reader))\n",
    "    # for row in reader:\n",
    "    #     return Data(*row)\n",
    "\n",
    "\n",
    "with ContextManagerIterator('cars.csv') as data:\n",
    "    # reader = csv.reader(data, data.dialect)\n",
    "    # Data = namedtuple('Data', data.headers)\n",
    "    for row in islice(data, 3):\n",
    "        print(row)\n",
    "\n",
    "print('-----------------------------------------')\n",
    "\n",
    "with ContextManagerIterator('personal_info.csv') as data:\n",
    "    for row in islice(data, 3):\n",
    "        print(row)"
   ],
   "id": "a8128f5cd01608c1",
   "outputs": [
    {
     "name": "stdout",
     "output_type": "stream",
     "text": [
      "Data(Car='Chevrolet Chevelle Malibu', MPG='18.0', Cylinders='8', Displacement='307.0', Horsepower='130.0', Weight='3504.', Acceleration='12.0', Model='70', Origin='US')\n",
      "Data(Car='Buick Skylark 320', MPG='15.0', Cylinders='8', Displacement='350.0', Horsepower='165.0', Weight='3693.', Acceleration='11.5', Model='70', Origin='US')\n",
      "Data(Car='Plymouth Satellite', MPG='18.0', Cylinders='8', Displacement='318.0', Horsepower='150.0', Weight='3436.', Acceleration='11.0', Model='70', Origin='US')\n",
      "-----------------------------------------\n",
      "Data(ssn='100-53-9824', first_name='Sebastiano', last_name='Tester', gender='Male', language='Icelandic')\n",
      "Data(ssn='101-71-4702', first_name='Cayla', last_name='MacDonagh', gender='Female', language='Lao')\n",
      "Data(ssn='101-84-0356', first_name='Nomi', last_name='Lipprose', gender='Female', language='Yiddish')\n"
     ]
    }
   ],
   "execution_count": 134
  },
  {
   "metadata": {
    "ExecuteTime": {
     "end_time": "2024-11-12T14:25:40.598955Z",
     "start_time": "2024-11-12T14:25:40.566923Z"
    }
   },
   "cell_type": "code",
   "source": [
    "def parser_data_iter(data_iter, nt):\n",
    "    for row in data_iter:\n",
    "        yield nt(*row)\n",
    "\n",
    "\n",
    "def get_dialect(fname):\n",
    "    with open(fname) as f:\n",
    "        return csv.Sniffer().sniff(f.read(1024))\n",
    "\n",
    "\n",
    "@contextmanager\n",
    "def open_file_ctx(fname):\n",
    "    print(f'opening file {fname}')\n",
    "    f = open(fname, 'r')\n",
    "    try:\n",
    "        reader = csv.reader(f, get_dialect(fname))\n",
    "        headers = next(reader)\n",
    "        Data = namedtuple('Data', headers)\n",
    "        yield parser_data_iter(reader, Data)\n",
    "    finally:\n",
    "        print(f'closing file {fname}')\n",
    "        f.close()\n",
    "\n",
    "\n",
    "with open_file_ctx('cars.csv') as f:\n",
    "    for row in islice(f, 3):\n",
    "        print(row)\n",
    "print('-----------------------------')\n",
    "with open_file_ctx('personal_info.csv') as f:\n",
    "    for row in islice(f, 3):\n",
    "        print(row)"
   ],
   "id": "e948d2457ca1cd95",
   "outputs": [
    {
     "name": "stdout",
     "output_type": "stream",
     "text": [
      "opening file cars.csv\n",
      "Data(Car='Chevrolet Chevelle Malibu', MPG='18.0', Cylinders='8', Displacement='307.0', Horsepower='130.0', Weight='3504.', Acceleration='12.0', Model='70', Origin='US')\n",
      "Data(Car='Buick Skylark 320', MPG='15.0', Cylinders='8', Displacement='350.0', Horsepower='165.0', Weight='3693.', Acceleration='11.5', Model='70', Origin='US')\n",
      "Data(Car='Plymouth Satellite', MPG='18.0', Cylinders='8', Displacement='318.0', Horsepower='150.0', Weight='3436.', Acceleration='11.0', Model='70', Origin='US')\n",
      "closing file cars.csv\n",
      "-----------------------------\n",
      "opening file personal_info.csv\n",
      "Data(ssn='100-53-9824', first_name='Sebastiano', last_name='Tester', gender='Male', language='Icelandic')\n",
      "Data(ssn='101-71-4702', first_name='Cayla', last_name='MacDonagh', gender='Female', language='Lao')\n",
      "Data(ssn='101-84-0356', first_name='Nomi', last_name='Lipprose', gender='Female', language='Yiddish')\n",
      "closing file personal_info.csv\n"
     ]
    }
   ],
   "execution_count": 147
  },
  {
   "metadata": {
    "ExecuteTime": {
     "end_time": "2024-11-12T14:33:15.422827Z",
     "start_time": "2024-11-12T14:33:15.397560Z"
    }
   },
   "cell_type": "code",
   "source": [
    "\n",
    "@contextmanager\n",
    "def open_file_ctx(fname):\n",
    "    print(f'opening file {fname}')\n",
    "    f = open(fname, 'r')\n",
    "    try:\n",
    "        dialect = csv.Sniffer().sniff(f.read(1024))\n",
    "        f.seek(0)\n",
    "        reader = csv.reader(f, dialect)\n",
    "        headers = next(reader)\n",
    "        Data = namedtuple('Data', headers)\n",
    "        yield (Data(*row) for row in reader)\n",
    "    finally:\n",
    "        print(f'closing file {fname}')\n",
    "        f.close()\n",
    "\n",
    "\n",
    "with open_file_ctx('cars.csv') as f:\n",
    "    for row in islice(f, 3):\n",
    "        print(row)"
   ],
   "id": "56d5a961fba84b42",
   "outputs": [
    {
     "name": "stdout",
     "output_type": "stream",
     "text": [
      "opening file cars.csv\n",
      "Data(Car='Chevrolet Chevelle Malibu', MPG='18.0', Cylinders='8', Displacement='307.0', Horsepower='130.0', Weight='3504.', Acceleration='12.0', Model='70', Origin='US')\n",
      "Data(Car='Buick Skylark 320', MPG='15.0', Cylinders='8', Displacement='350.0', Horsepower='165.0', Weight='3693.', Acceleration='11.5', Model='70', Origin='US')\n",
      "Data(Car='Plymouth Satellite', MPG='18.0', Cylinders='8', Displacement='318.0', Horsepower='150.0', Weight='3436.', Acceleration='11.0', Model='70', Origin='US')\n",
      "closing file cars.csv\n"
     ]
    }
   ],
   "execution_count": 152
  },
  {
   "metadata": {},
   "cell_type": "code",
   "outputs": [],
   "execution_count": null,
   "source": "",
   "id": "c7627d176638cbd6"
  }
 ],
 "metadata": {
  "kernelspec": {
   "display_name": "Python 3",
   "language": "python",
   "name": "python3"
  },
  "language_info": {
   "codemirror_mode": {
    "name": "ipython",
    "version": 2
   },
   "file_extension": ".py",
   "mimetype": "text/x-python",
   "name": "python",
   "nbconvert_exporter": "python",
   "pygments_lexer": "ipython2",
   "version": "2.7.6"
  }
 },
 "nbformat": 4,
 "nbformat_minor": 5
}
