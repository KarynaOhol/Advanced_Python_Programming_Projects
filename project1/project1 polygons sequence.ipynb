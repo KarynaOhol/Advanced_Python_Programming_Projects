{
 "cells": [
  {
   "metadata": {
    "ExecuteTime": {
     "end_time": "2024-10-18T14:31:50.597719Z",
     "start_time": "2024-10-18T14:31:50.585354Z"
    }
   },
   "cell_type": "code",
   "source": [
    "import math\n",
    "\n",
    "\n",
    "class Polygon:\n",
    "    def __init__(self, num_of_vertices, circum_radius):\n",
    "        if num_of_vertices < 3:\n",
    "            raise ValueError(\"num_of_vertices must be greater than or equal to 3.\")\n",
    "        self._n = num_of_vertices\n",
    "        self._R = circum_radius\n",
    "\n",
    "    @property\n",
    "    def circum_radius(self):\n",
    "        return self._R\n",
    "\n",
    "    @property\n",
    "    def edges(self):\n",
    "        return self._n\n",
    "\n",
    "    @property\n",
    "    def vertices(self):\n",
    "        return self._n\n",
    "\n",
    "    @property\n",
    "    def interior_angel(self):\n",
    "        return (self._n - 2) * 180 / self._n\n",
    "\n",
    "    @property\n",
    "    def edge_length(self):\n",
    "        return 2 * self._R * math.sin(math.pi / self._n)\n",
    "\n",
    "    @property\n",
    "    def apothem(self):\n",
    "        return self._R * math.cos(math.pi / self._n)\n",
    "\n",
    "    @property\n",
    "    def area(self):\n",
    "        return self._n / 2 * self.edge_length * self.apothem\n",
    "\n",
    "    @property\n",
    "    def perimeter(self):\n",
    "        return self._n * self.edge_length\n",
    "\n",
    "    def __repr__(self):\n",
    "        return f'Polygon({self._n},{self._R})'\n",
    "        # return f'Polygon:num_of_vertices n {self._n},circum_radius R {self._R}\\n\\t interior angel: {self.interior_angel}\\n\\t edge length S: {self.edge_length}\\n\\t apothem a:{self.apothem}\\n area {self.area} perimeter {self.perimeter}'\n",
    "\n",
    "    def __eq__(self, other):\n",
    "        if isinstance(other, Polygon):\n",
    "            return self._n == other._n and self._R == other._R\n",
    "        else:\n",
    "            raise TypeError\n",
    "\n",
    "    def __gt__(self, other):\n",
    "        if isinstance(other, Polygon):\n",
    "            return self._n > other._n\n",
    "        else:\n",
    "            return NotImplemented\n"
   ],
   "id": "710898bc0bf5a637",
   "outputs": [],
   "execution_count": 53
  },
  {
   "cell_type": "code",
   "id": "initial_id",
   "metadata": {
    "collapsed": true,
    "ExecuteTime": {
     "end_time": "2024-10-18T12:19:01.630762Z",
     "start_time": "2024-10-18T12:19:01.622052Z"
    }
   },
   "source": [
    "p = Polygon(3, 5)\n",
    "p1 = Polygon(3, 5)\n",
    "p2 = Polygon(3, 6)\n",
    "p3 = Polygon(2, 4)\n",
    "p"
   ],
   "outputs": [
    {
     "data": {
      "text/plain": [
       "Polygon:num_of_vertices n 3,circum_radius R 5\n",
       "\t interior angel: 60.0\n",
       "\t edge length S: 8.660254037844386\n",
       "\t apothem a:2.5000000000000004\n",
       " area 32.47595264191645 perimeter 25.980762113533157"
      ]
     },
     "execution_count": 11,
     "metadata": {},
     "output_type": "execute_result"
    }
   ],
   "execution_count": 11
  },
  {
   "metadata": {
    "ExecuteTime": {
     "end_time": "2024-10-18T12:19:04.371913Z",
     "start_time": "2024-10-18T12:19:04.359105Z"
    }
   },
   "cell_type": "code",
   "source": "p1 == p, p1 == p2, p1 == p3",
   "id": "7dd5a62993d77dd",
   "outputs": [
    {
     "data": {
      "text/plain": [
       "(True, False, False)"
      ]
     },
     "execution_count": 12,
     "metadata": {},
     "output_type": "execute_result"
    }
   ],
   "execution_count": 12
  },
  {
   "metadata": {
    "ExecuteTime": {
     "end_time": "2024-10-18T12:19:41.815718Z",
     "start_time": "2024-10-18T12:19:41.809652Z"
    }
   },
   "cell_type": "code",
   "source": "p1 > p3, p1 > p2",
   "id": "abb6b2ec3df8a7b",
   "outputs": [
    {
     "data": {
      "text/plain": [
       "(True, False)"
      ]
     },
     "execution_count": 13,
     "metadata": {},
     "output_type": "execute_result"
    }
   ],
   "execution_count": 13
  },
  {
   "metadata": {
    "ExecuteTime": {
     "end_time": "2024-10-18T14:20:11.527470Z",
     "start_time": "2024-10-18T14:20:11.511684Z"
    }
   },
   "cell_type": "code",
   "source": [
    "def test_polygon():\n",
    "    abs_tol = 0.001\n",
    "    rel_tol = 0.001\n",
    "\n",
    "    try:\n",
    "        p = Polygon(2, 10)\n",
    "        assert False, ('Creating a Polygon with 2 sides: '\n",
    "                       ' Exception expected, not received')\n",
    "    except ValueError:\n",
    "        pass\n",
    "\n",
    "    n = 3\n",
    "    R = 1\n",
    "\n",
    "    p = Polygon(n, R)\n",
    "    assert p.interior_angel == 60, (f'actual:{p.interior_angel},expected:60')\n",
    "    assert p.edges == n, (f'actual:{p.edges},expected:{n}')\n",
    "    assert p.vertices == n, (f'actual:{p.vertices},expected:{n}')\n",
    "\n",
    "    n = 4\n",
    "    R = 1\n",
    "    p = Polygon(n, R)\n",
    "    assert p.interior_angel == 90, (f'actual: {p.interior_angel}, '\n",
    "                                    f' expected: 90')\n",
    "    assert p.area == 2.0, (f'actual: {p.area}, '\n",
    "                           'expected: 2.0')\n",
    "    assert math.isclose(p.perimeter, 4 * math.sqrt(2),\n",
    "                        rel_tol=rel_tol,\n",
    "                        abs_tol=abs_tol), (f'actual: {p.perimeter},'\n",
    "                                           f' expected: {4 * math.sqrt(2)}')\n",
    "\n",
    "    assert math.isclose(p.apothem, 0.707,\n",
    "                        rel_tol=rel_tol,\n",
    "                        abs_tol=abs_tol), (f'actual: {p.perimeter},'\n",
    "                                           ' expected: 0.707')\n",
    "\n",
    "    p = Polygon(6, 2)\n",
    "    assert math.isclose(p.edge_length, 2,\n",
    "                        rel_tol=rel_tol, abs_tol=abs_tol)\n",
    "    assert math.isclose(p.apothem, 1.73205,\n",
    "                        rel_tol=rel_tol, abs_tol=abs_tol)\n",
    "    assert math.isclose(p.area, 10.3923,\n",
    "                        rel_tol=rel_tol, abs_tol=abs_tol)\n",
    "    assert math.isclose(p.perimeter, 12,\n",
    "                        rel_tol=rel_tol, abs_tol=abs_tol)\n",
    "    assert math.isclose(p.interior_angel, 120,\n",
    "                        rel_tol=rel_tol, abs_tol=abs_tol)\n",
    "\n",
    "    p = Polygon(12, 3)\n",
    "    assert math.isclose(p.edge_length, 1.55291,\n",
    "                        rel_tol=rel_tol, abs_tol=abs_tol)\n",
    "    assert math.isclose(p.apothem, 2.89778,\n",
    "                        rel_tol=rel_tol, abs_tol=abs_tol)\n",
    "    assert math.isclose(p.area, 27,\n",
    "                        rel_tol=rel_tol, abs_tol=abs_tol)\n",
    "    assert math.isclose(p.perimeter, 18.635,\n",
    "                        rel_tol=rel_tol, abs_tol=abs_tol)\n",
    "    assert math.isclose(p.interior_angel, 150,\n",
    "                        rel_tol=rel_tol, abs_tol=abs_tol)\n",
    "\n",
    "    p1 = Polygon(3, 10)\n",
    "    p2 = Polygon(10, 10)\n",
    "    p3 = Polygon(15, 10)\n",
    "    p4 = Polygon(15, 100)\n",
    "    p5 = Polygon(15, 100)\n",
    "\n",
    "    assert p2 > p1\n",
    "    assert p2 < p3\n",
    "    assert p3 != p4\n",
    "    assert p1 != p4\n",
    "    assert p4 == p5"
   ],
   "id": "71ee0dd7169c53dc",
   "outputs": [],
   "execution_count": 37
  },
  {
   "metadata": {
    "ExecuteTime": {
     "end_time": "2024-10-18T14:20:15.547785Z",
     "start_time": "2024-10-18T14:20:15.542850Z"
    }
   },
   "cell_type": "code",
   "source": "test_polygon()",
   "id": "14ed9e772faeb5c8",
   "outputs": [],
   "execution_count": 38
  },
  {
   "metadata": {
    "ExecuteTime": {
     "end_time": "2024-10-18T15:24:50.633752Z",
     "start_time": "2024-10-18T15:24:50.626860Z"
    }
   },
   "cell_type": "code",
   "source": [
    "class Polygons:\n",
    "    def __init__(self, max_num_of_vertices, circum_radius):\n",
    "        self._plgns = [Polygon(n, circum_radius) for n in range(3, max_num_of_vertices + 1)]\n",
    "\n",
    "    def __repr__(self):\n",
    "        return f'Polygons {self._plgns}'\n",
    "\n",
    "    def __len__(self):\n",
    "        return self._plgns.__len__()\n",
    "\n",
    "    def __getitem__(self, key):\n",
    "        return self._plgns[key]\n",
    "\n",
    "    @property\n",
    "    def max_efficiency_plgn(self):\n",
    "        # eff_plgn = [(plg.area / plg.perimeter, plg) for plg in self._plgns]\n",
    "        # return max(eff_plgn)[1]\n",
    "        \n",
    "        # sorted_plgns=sorted(self._plgns, key=lambda plg: plg.area / plg.perimeter, reverse=True)\n",
    "        # return sorted_plgns[0]\n",
    "\n",
    "        return max(self._plgns, key=lambda plg: plg.area / plg.perimeter)\n"
   ],
   "id": "ec5c245d169a1fa3",
   "outputs": [],
   "execution_count": 146
  },
  {
   "metadata": {
    "ExecuteTime": {
     "end_time": "2024-10-18T15:24:53.646918Z",
     "start_time": "2024-10-18T15:24:53.642610Z"
    }
   },
   "cell_type": "code",
   "source": "polygons = Polygons(8, 8)",
   "id": "e0514991b61a19fb",
   "outputs": [],
   "execution_count": 147
  },
  {
   "metadata": {
    "ExecuteTime": {
     "end_time": "2024-10-18T14:52:43.707704Z",
     "start_time": "2024-10-18T14:52:43.697976Z"
    }
   },
   "cell_type": "code",
   "source": "polygons",
   "id": "6aa70907e4bffc39",
   "outputs": [
    {
     "data": {
      "text/plain": [
       "Polygons [Polygon(3,3), Polygon(4,3), Polygon(5,3), Polygon(6,3), Polygon(7,3)]"
      ]
     },
     "execution_count": 97,
     "metadata": {},
     "output_type": "execute_result"
    }
   ],
   "execution_count": 97
  },
  {
   "metadata": {
    "ExecuteTime": {
     "end_time": "2024-10-18T14:33:40.397494Z",
     "start_time": "2024-10-18T14:33:40.391937Z"
    }
   },
   "cell_type": "code",
   "source": "polygons.__len__()",
   "id": "a254c496aeaa82b4",
   "outputs": [
    {
     "data": {
      "text/plain": [
       "5"
      ]
     },
     "execution_count": 66,
     "metadata": {},
     "output_type": "execute_result"
    }
   ],
   "execution_count": 66
  },
  {
   "metadata": {
    "ExecuteTime": {
     "end_time": "2024-10-18T14:34:22.214488Z",
     "start_time": "2024-10-18T14:34:22.204599Z"
    }
   },
   "cell_type": "code",
   "source": "polygons[1:3]",
   "id": "f2ce2f67a56a6ba6",
   "outputs": [
    {
     "data": {
      "text/plain": [
       "[Polygon(4,3), Polygon(5,3)]"
      ]
     },
     "execution_count": 69,
     "metadata": {},
     "output_type": "execute_result"
    }
   ],
   "execution_count": 69
  },
  {
   "metadata": {
    "ExecuteTime": {
     "end_time": "2024-10-18T15:24:57.064121Z",
     "start_time": "2024-10-18T15:24:57.046152Z"
    }
   },
   "cell_type": "code",
   "source": "polygons.max_efficiency_plgn",
   "id": "1faa3fc9104f367c",
   "outputs": [
    {
     "data": {
      "text/plain": [
       "Polygon(8,8)"
      ]
     },
     "execution_count": 148,
     "metadata": {},
     "output_type": "execute_result"
    }
   ],
   "execution_count": 148
  },
  {
   "metadata": {},
   "cell_type": "code",
   "outputs": [],
   "execution_count": null,
   "source": "",
   "id": "52691b93f312e9d6"
  }
 ],
 "metadata": {
  "kernelspec": {
   "display_name": "Python 3",
   "language": "python",
   "name": "python3"
  },
  "language_info": {
   "codemirror_mode": {
    "name": "ipython",
    "version": 2
   },
   "file_extension": ".py",
   "mimetype": "text/x-python",
   "name": "python",
   "nbconvert_exporter": "python",
   "pygments_lexer": "ipython2",
   "version": "2.7.6"
  }
 },
 "nbformat": 4,
 "nbformat_minor": 5
}
