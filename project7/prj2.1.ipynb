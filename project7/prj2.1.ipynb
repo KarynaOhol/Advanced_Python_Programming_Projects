{
 "cells": [
  {
   "cell_type": "code",
   "id": "initial_id",
   "metadata": {
    "collapsed": true,
    "ExecuteTime": {
     "end_time": "2024-12-04T15:20:46.595739Z",
     "start_time": "2024-12-04T15:20:46.587498Z"
    }
   },
   "source": [
    "class Stock:\n",
    "    def __init__(self, symbol, date, open_, high, low, close, volume):\n",
    "        self.symbol = symbol\n",
    "        self.date = date\n",
    "        self.open = open_\n",
    "        self.high = high\n",
    "        self.low = low\n",
    "        self.close = close\n",
    "        self.volume = volume\n",
    "\n",
    "    def as_dict(self):\n",
    "        return dict(symbol=self.symbol,\n",
    "                    date=self.date,\n",
    "                    open=self.open,\n",
    "                    high=self.high,\n",
    "                    low=self.low,\n",
    "                    close=self.close,\n",
    "                    volume=self.volume)\n",
    "\n",
    "    def __repr__(self):\n",
    "        return str(self.as_dict())\n",
    "\n",
    "    def __eq__(self, other):\n",
    "        return isinstance(other, self.__class__) and self.as_dict() == other.as_dict()\n",
    "\n",
    "\n",
    "class Trade:\n",
    "    def __init__(self, symbol, timestamp, order, price, volume, commission):\n",
    "        self.symbol = symbol\n",
    "        self.timestamp = timestamp\n",
    "        self.order = order\n",
    "        self.price = price\n",
    "        self.commission = commission\n",
    "        self.volume = volume\n",
    "\n",
    "    def as_dict(self):\n",
    "        return dict(\n",
    "            symbol=self.symbol,\n",
    "            timestamp=self.timestamp,\n",
    "            order=self.order,\n",
    "            price=self.price,\n",
    "            volume=self.volume,\n",
    "            commission=self.commission)\n",
    "\n",
    "    def __repr__(self):\n",
    "        return str(self.as_dict())\n",
    "\n",
    "    def __eq__(self, other):\n",
    "        return isinstance(other, self.__class__) and self.as_dict() == other.as_dict()\n",
    "\n"
   ],
   "outputs": [],
   "execution_count": 39
  },
  {
   "metadata": {
    "ExecuteTime": {
     "end_time": "2024-12-04T14:40:59.894039Z",
     "start_time": "2024-12-04T14:40:59.886346Z"
    }
   },
   "cell_type": "code",
   "source": [
    "from datetime import date, datetime\n",
    "from decimal import Decimal\n",
    "import json\n",
    "import marshmallow\n",
    "\n",
    "activity = {\n",
    "    \"quotes\": [\n",
    "        Stock('TSLA', date(2018, 11, 22),\n",
    "              Decimal('338.19'), Decimal('338.64'), Decimal('337.60'), Decimal('338.19'), 365_607),\n",
    "        Stock('AAPL', date(2018, 11, 22),\n",
    "              Decimal('176.66'), Decimal('177.25'), Decimal('176.64'), Decimal('176.78'), 3_699_184),\n",
    "        Stock('MSFT', date(2018, 11, 22),\n",
    "              Decimal('103.25'), Decimal('103.48'), Decimal('103.07'), Decimal('103.11'), 4_493_689)\n",
    "    ],\n",
    "\n",
    "    \"trades\": [\n",
    "        Trade('TSLA', datetime(2018, 11, 22, 10, 5, 12), 'buy', Decimal('338.25'), 100, Decimal('9.99')),\n",
    "        Trade('AAPL', datetime(2018, 11, 22, 10, 30, 5), 'sell', Decimal('177.01'), 20, Decimal('9.99'))\n",
    "    ]\n",
    "}"
   ],
   "id": "8238554f4a08137a",
   "outputs": [],
   "execution_count": 27
  },
  {
   "metadata": {
    "ExecuteTime": {
     "end_time": "2024-12-04T14:41:02.454459Z",
     "start_time": "2024-12-04T14:41:02.440266Z"
    }
   },
   "cell_type": "code",
   "source": [
    "class StockShema(marshmallow.Schema):\n",
    "    symbol = marshmallow.fields.Str()\n",
    "    date = marshmallow.fields.Date()\n",
    "    open = marshmallow.fields.Decimal(as_string=True)\n",
    "    high = marshmallow.fields.Decimal(as_string=True)\n",
    "    low = marshmallow.fields.Decimal(as_string=True)\n",
    "    close = marshmallow.fields.Decimal(as_string=True)\n",
    "    volume = marshmallow.fields.Integer()\n",
    "\n",
    "    @marshmallow.post_load\n",
    "    def create_stock(self, data, **kwargs):\n",
    "        data['open_'] = data.pop('open')\n",
    "        return Stock(**data)\n",
    "\n",
    "\n",
    "class TradeSchema(marshmallow.Schema):\n",
    "    symbol = marshmallow.fields.Str()\n",
    "    timestamp = marshmallow.fields.DateTime()\n",
    "    order = marshmallow.fields.Str()\n",
    "    price = marshmallow.fields.Decimal(as_string=True)\n",
    "    volume = marshmallow.fields.Decimal(as_string=True)\n",
    "    commission = marshmallow.fields.Integer()\n",
    "\n",
    "    @marshmallow.post_load\n",
    "    def create_trade(self, data, **kwargs):\n",
    "        return Trade(**data)\n",
    "\n",
    "\n",
    "class ActivitySchema(marshmallow.Schema):\n",
    "    quotes = marshmallow.fields.Nested(StockShema, many=True)\n",
    "    trades = marshmallow.fields.Nested(TradeSchema, many=True)"
   ],
   "id": "510d600f07b964ce",
   "outputs": [],
   "execution_count": 28
  },
  {
   "metadata": {
    "ExecuteTime": {
     "end_time": "2024-12-04T14:41:05.614345Z",
     "start_time": "2024-12-04T14:41:05.602945Z"
    }
   },
   "cell_type": "code",
   "source": [
    "encoded = ActivitySchema().dumps(activity)\n",
    "print(encoded)"
   ],
   "id": "c143fad6e6564cbf",
   "outputs": [
    {
     "name": "stdout",
     "output_type": "stream",
     "text": [
      "{\"quotes\": [{\"symbol\": \"TSLA\", \"date\": \"2018-11-22\", \"open\": \"338.19\", \"high\": \"338.64\", \"low\": \"337.60\", \"close\": \"338.19\", \"volume\": 365607}, {\"symbol\": \"AAPL\", \"date\": \"2018-11-22\", \"open\": \"176.66\", \"high\": \"177.25\", \"low\": \"176.64\", \"close\": \"176.78\", \"volume\": 3699184}, {\"symbol\": \"MSFT\", \"date\": \"2018-11-22\", \"open\": \"103.25\", \"high\": \"103.48\", \"low\": \"103.07\", \"close\": \"103.11\", \"volume\": 4493689}], \"trades\": [{\"symbol\": \"TSLA\", \"timestamp\": \"2018-11-22T10:05:12\", \"order\": \"buy\", \"price\": \"338.25\", \"volume\": \"100\", \"commission\": 9}, {\"symbol\": \"AAPL\", \"timestamp\": \"2018-11-22T10:30:05\", \"order\": \"sell\", \"price\": \"177.01\", \"volume\": \"20\", \"commission\": 9}]}\n"
     ]
    }
   ],
   "execution_count": 29
  },
  {
   "metadata": {
    "ExecuteTime": {
     "end_time": "2024-12-04T14:41:08.942129Z",
     "start_time": "2024-12-04T14:41:08.930135Z"
    }
   },
   "cell_type": "code",
   "source": [
    "from pprint import pprint\n",
    "\n",
    "decoded = ActivitySchema().loads(encoded)\n",
    "pprint(decoded)"
   ],
   "id": "ad62e82a0779de04",
   "outputs": [
    {
     "name": "stdout",
     "output_type": "stream",
     "text": [
      "{'quotes': [{'symbol': 'TSLA', 'date': datetime.date(2018, 11, 22), 'open': Decimal('338.19'), 'high': Decimal('338.64'), 'low': Decimal('337.60'), 'close': Decimal('338.19'), 'volume': 365607},\n",
      "            {'symbol': 'AAPL', 'date': datetime.date(2018, 11, 22), 'open': Decimal('176.66'), 'high': Decimal('177.25'), 'low': Decimal('176.64'), 'close': Decimal('176.78'), 'volume': 3699184},\n",
      "            {'symbol': 'MSFT', 'date': datetime.date(2018, 11, 22), 'open': Decimal('103.25'), 'high': Decimal('103.48'), 'low': Decimal('103.07'), 'close': Decimal('103.11'), 'volume': 4493689}],\n",
      " 'trades': [{'symbol': 'TSLA', 'timestamp': datetime.datetime(2018, 11, 22, 10, 5, 12), 'order': 'buy', 'price': Decimal('338.25'), 'volume': Decimal('100'), 'commission': 9},\n",
      "            {'symbol': 'AAPL', 'timestamp': datetime.datetime(2018, 11, 22, 10, 30, 5), 'order': 'sell', 'price': Decimal('177.01'), 'volume': Decimal('20'), 'commission': 9}]}\n"
     ]
    }
   ],
   "execution_count": 30
  },
  {
   "metadata": {
    "ExecuteTime": {
     "end_time": "2024-12-04T15:01:31.408902Z",
     "start_time": "2024-12-04T15:01:31.403190Z"
    }
   },
   "cell_type": "code",
   "source": [
    "class CustomEncoder(json.JSONEncoder):\n",
    "    def default(self, o):\n",
    "        if isinstance(o, Stock) or isinstance(o, Trade):\n",
    "            res = o.as_dict()\n",
    "            res['Object'] = o.__class__.__name__\n",
    "            return res\n",
    "        elif isinstance(o, datetime):\n",
    "            return o.isoformat()\n",
    "        elif isinstance(o, date):\n",
    "            return o.strftime('%Y-%m-%d')\n",
    "        elif isinstance(o, Decimal):\n",
    "            return str(o)\n",
    "        else:\n",
    "            super().default(o)"
   ],
   "id": "260c33ccea2f5688",
   "outputs": [],
   "execution_count": 31
  },
  {
   "metadata": {
    "ExecuteTime": {
     "end_time": "2024-12-04T15:02:34.233768Z",
     "start_time": "2024-12-04T15:02:34.222192Z"
    }
   },
   "cell_type": "code",
   "source": [
    "serialized = json.dumps(activity, cls=CustomEncoder)\n",
    "serialized"
   ],
   "id": "dc3fc99e5811214d",
   "outputs": [
    {
     "data": {
      "text/plain": [
       "'{\"quotes\": [{\"symbol\": \"TSLA\", \"date\": \"2018-11-22\", \"open\": \"338.19\", \"high\": \"338.64\", \"low\": \"337.60\", \"close\": \"338.19\", \"volume\": 365607, \"Object\": \"Stock\"}, {\"symbol\": \"AAPL\", \"date\": \"2018-11-22\", \"open\": \"176.66\", \"high\": \"177.25\", \"low\": \"176.64\", \"close\": \"176.78\", \"volume\": 3699184, \"Object\": \"Stock\"}, {\"symbol\": \"MSFT\", \"date\": \"2018-11-22\", \"open\": \"103.25\", \"high\": \"103.48\", \"low\": \"103.07\", \"close\": \"103.11\", \"volume\": 4493689, \"Object\": \"Stock\"}], \"trades\": [{\"symbol\": \"TSLA\", \"timestamp\": \"2018-11-22T10:05:12\", \"order\": \"buy\", \"price\": \"338.25\", \"volume\": 100, \"commission\": \"9.99\", \"Object\": \"Trade\"}, {\"symbol\": \"AAPL\", \"timestamp\": \"2018-11-22T10:30:05\", \"order\": \"sell\", \"price\": \"177.01\", \"volume\": 20, \"commission\": \"9.99\", \"Object\": \"Trade\"}]}'"
      ]
     },
     "execution_count": 36,
     "metadata": {},
     "output_type": "execute_result"
    }
   ],
   "execution_count": 36
  },
  {
   "metadata": {},
   "cell_type": "markdown",
   "source": "",
   "id": "1c922adbd972d354"
  },
  {
   "metadata": {
    "ExecuteTime": {
     "end_time": "2024-12-04T15:17:48.922131Z",
     "start_time": "2024-12-04T15:17:48.915075Z"
    }
   },
   "cell_type": "code",
   "source": [
    "def decode_stock(d):\n",
    "    s = Stock(d['symbol'],\n",
    "              datetime.strptime(d['date'],\n",
    "                                '%Y-%m-%d', ).date(),\n",
    "              Decimal(d['open']),\n",
    "              Decimal(d['high']),\n",
    "              Decimal(d['low']),\n",
    "              Decimal(d['close']),\n",
    "              int(d['volume']))\n",
    "    return s\n",
    "\n",
    "\n",
    "def decode_trade(d):\n",
    "    s = Trade(d['symbol'],\n",
    "              datetime.strptime(d['timestamp'], '%Y-%m-%dT%H:%M:%S'),\n",
    "              d['order'],\n",
    "              Decimal(d['price']),\n",
    "              int(d['volume']),\n",
    "              Decimal(d['commission']))\n",
    "    return s\n",
    "\n",
    "\n",
    "def decode_activity(d):\n",
    "    clas_type = d.get('Object')\n",
    "    if clas_type == 'Stock':\n",
    "        return decode_stock(d)\n",
    "    elif clas_type == 'Trade':\n",
    "        return decode_trade(d)\n",
    "    return d\n",
    "\n",
    "\n",
    "class CustomDecoder(json.JSONDecoder):\n",
    "    def decode(self, arg):\n",
    "        obj = json.loads(arg)\n",
    "        return self.parse_activity(obj)\n",
    "\n",
    "    def parse_activity(self, obj):\n",
    "        if isinstance(obj, dict):\n",
    "            obj = decode_activity(obj)\n",
    "            if isinstance(obj, dict):\n",
    "                for k, v in obj.items():\n",
    "                    obj[k] = self.parse_activity(v)\n",
    "        elif isinstance(obj, list):\n",
    "            for indx, item in enumerate(obj):\n",
    "                obj[indx] = self.parse_activity(item)\n",
    "        return obj\n"
   ],
   "id": "cbc58bdff4806507",
   "outputs": [],
   "execution_count": 37
  },
  {
   "metadata": {
    "ExecuteTime": {
     "end_time": "2024-12-04T15:21:23.691315Z",
     "start_time": "2024-12-04T15:21:23.675485Z"
    }
   },
   "cell_type": "code",
   "source": "json.loads(serialized, cls=CustomDecoder)",
   "id": "167cfcc1a3a49ffb",
   "outputs": [
    {
     "data": {
      "text/plain": [
       "{'quotes': [{'symbol': 'TSLA', 'date': datetime.date(2018, 11, 22), 'open': Decimal('338.19'), 'high': Decimal('338.64'), 'low': Decimal('337.60'), 'close': Decimal('338.19'), 'volume': 365607},\n",
       "  {'symbol': 'AAPL', 'date': datetime.date(2018, 11, 22), 'open': Decimal('176.66'), 'high': Decimal('177.25'), 'low': Decimal('176.64'), 'close': Decimal('176.78'), 'volume': 3699184},\n",
       "  {'symbol': 'MSFT', 'date': datetime.date(2018, 11, 22), 'open': Decimal('103.25'), 'high': Decimal('103.48'), 'low': Decimal('103.07'), 'close': Decimal('103.11'), 'volume': 4493689}],\n",
       " 'trades': [{'symbol': 'TSLA', 'timestamp': datetime.datetime(2018, 11, 22, 10, 5, 12), 'order': 'buy', 'price': Decimal('338.25'), 'volume': 100, 'commission': Decimal('9.99')},\n",
       "  {'symbol': 'AAPL', 'timestamp': datetime.datetime(2018, 11, 22, 10, 30, 5), 'order': 'sell', 'price': Decimal('177.01'), 'volume': 20, 'commission': Decimal('9.99')}]}"
      ]
     },
     "execution_count": 41,
     "metadata": {},
     "output_type": "execute_result"
    }
   ],
   "execution_count": 41
  },
  {
   "metadata": {},
   "cell_type": "code",
   "outputs": [],
   "execution_count": null,
   "source": "",
   "id": "d1273c0f57c98e86"
  }
 ],
 "metadata": {
  "kernelspec": {
   "display_name": "Python 3",
   "language": "python",
   "name": "python3"
  },
  "language_info": {
   "codemirror_mode": {
    "name": "ipython",
    "version": 2
   },
   "file_extension": ".py",
   "mimetype": "text/x-python",
   "name": "python",
   "nbconvert_exporter": "python",
   "pygments_lexer": "ipython2",
   "version": "2.7.6"
  }
 },
 "nbformat": 4,
 "nbformat_minor": 5
}
