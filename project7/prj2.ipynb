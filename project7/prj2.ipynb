{
 "cells": [
  {
   "cell_type": "code",
   "id": "initial_id",
   "metadata": {
    "collapsed": true,
    "ExecuteTime": {
     "end_time": "2024-12-04T13:45:42.617005Z",
     "start_time": "2024-12-04T13:45:42.593580Z"
    }
   },
   "source": [
    "\n",
    "class Stock:\n",
    "    def __init__(self, symbol, date, open_, high, low, close, volume):\n",
    "        self.symbol = symbol\n",
    "        self.date = date\n",
    "        self.open = open_\n",
    "        self.high = high\n",
    "        self.low = low\n",
    "        self.close = close\n",
    "        self.volume = volume\n",
    "\n",
    "    def as_dict(self):\n",
    "        return dict(symbol=self.symbol,\n",
    "                    date=self.date,\n",
    "                    open=self.open,\n",
    "                    high=self.high,\n",
    "                    low=self.low,\n",
    "                    close=self.close,\n",
    "                    volume=self.volume)\n",
    "\n",
    "\n",
    "class Trade:\n",
    "    def __init__(self, symbol, timestamp, order, price, volume, commission):\n",
    "        self.symbol = symbol\n",
    "        self.timestamp = timestamp\n",
    "        self.order = order\n",
    "        self.price = price\n",
    "        self.commission = commission\n",
    "        self.volume = volume\n",
    "\n",
    "    def as_dict(self):\n",
    "        return dict(\n",
    "            symbol=self.symbol,\n",
    "            timestamp=self.timestamp,\n",
    "            order=self.order,\n",
    "            price=self.price,\n",
    "            volume=self.volume,\n",
    "            commission=self.commission)\n",
    "\n"
   ],
   "outputs": [],
   "execution_count": 14
  },
  {
   "metadata": {
    "ExecuteTime": {
     "end_time": "2024-12-04T13:45:44.854507Z",
     "start_time": "2024-12-04T13:45:44.838723Z"
    }
   },
   "cell_type": "code",
   "source": [
    "from datetime import date, datetime\n",
    "from decimal import Decimal\n",
    "\n",
    "activity = {\n",
    "    \"quotes\": [\n",
    "        Stock('TSLA', date(2018, 11, 22),\n",
    "              Decimal('338.19'), Decimal('338.64'), Decimal('337.60'), Decimal('338.19'), 365_607),\n",
    "        Stock('AAPL', date(2018, 11, 22),\n",
    "              Decimal('176.66'), Decimal('177.25'), Decimal('176.64'), Decimal('176.78'), 3_699_184),\n",
    "        Stock('MSFT', date(2018, 11, 22),\n",
    "              Decimal('103.25'), Decimal('103.48'), Decimal('103.07'), Decimal('103.11'), 4_493_689)\n",
    "    ],\n",
    "\n",
    "    \"trades\": [\n",
    "        Trade('TSLA', datetime(2018, 11, 22, 10, 5, 12), 'buy', Decimal('338.25'), 100, Decimal('9.99')),\n",
    "        Trade('AAPL', datetime(2018, 11, 22, 10, 30, 5), 'sell', Decimal('177.01'), 20, Decimal('9.99'))\n",
    "    ]\n",
    "}"
   ],
   "id": "bdeb5da090f44b5d",
   "outputs": [],
   "execution_count": 15
  },
  {
   "metadata": {
    "ExecuteTime": {
     "end_time": "2024-12-04T13:48:42.268003Z",
     "start_time": "2024-12-04T13:48:42.253881Z"
    }
   },
   "cell_type": "code",
   "source": [
    "import json\n",
    "\n",
    "\n",
    "class CustomEncoder(json.JSONEncoder):\n",
    "    def default(self, arg):\n",
    "        if isinstance(arg, Stock) or isinstance(arg, Trade):\n",
    "            res = arg.as_dict()\n",
    "            res['Object'] = arg.__class__.__name__\n",
    "            return res\n",
    "        elif isinstance(arg, datetime):\n",
    "            return arg.isoformat()\n",
    "        elif isinstance(arg, date):\n",
    "            return arg.strftime('%Y-%m-%d')\n",
    "        elif isinstance(arg, Decimal):\n",
    "            return str(arg)\n",
    "        else:\n",
    "            super().default(arg)"
   ],
   "id": "a7dcb30ef01c944d",
   "outputs": [],
   "execution_count": 26
  },
  {
   "metadata": {
    "ExecuteTime": {
     "end_time": "2024-12-04T13:48:44.656267Z",
     "start_time": "2024-12-04T13:48:44.644573Z"
    }
   },
   "cell_type": "code",
   "source": "res = json.dumps(activity, cls=CustomEncoder, indent=4)",
   "id": "dc6eb177be1e9eb8",
   "outputs": [],
   "execution_count": 27
  },
  {
   "metadata": {
    "ExecuteTime": {
     "end_time": "2024-12-04T13:48:46.277434Z",
     "start_time": "2024-12-04T13:48:46.267028Z"
    }
   },
   "cell_type": "code",
   "source": "print(res)",
   "id": "c3106b13ded9c8a6",
   "outputs": [
    {
     "name": "stdout",
     "output_type": "stream",
     "text": [
      "{\n",
      "    \"quotes\": [\n",
      "        {\n",
      "            \"symbol\": \"TSLA\",\n",
      "            \"date\": \"2018-11-22\",\n",
      "            \"open\": \"338.19\",\n",
      "            \"high\": \"338.64\",\n",
      "            \"low\": \"337.60\",\n",
      "            \"close\": \"338.19\",\n",
      "            \"volume\": 365607,\n",
      "            \"Object\": \"Stock\"\n",
      "        },\n",
      "        {\n",
      "            \"symbol\": \"AAPL\",\n",
      "            \"date\": \"2018-11-22\",\n",
      "            \"open\": \"176.66\",\n",
      "            \"high\": \"177.25\",\n",
      "            \"low\": \"176.64\",\n",
      "            \"close\": \"176.78\",\n",
      "            \"volume\": 3699184,\n",
      "            \"Object\": \"Stock\"\n",
      "        },\n",
      "        {\n",
      "            \"symbol\": \"MSFT\",\n",
      "            \"date\": \"2018-11-22\",\n",
      "            \"open\": \"103.25\",\n",
      "            \"high\": \"103.48\",\n",
      "            \"low\": \"103.07\",\n",
      "            \"close\": \"103.11\",\n",
      "            \"volume\": 4493689,\n",
      "            \"Object\": \"Stock\"\n",
      "        }\n",
      "    ],\n",
      "    \"trades\": [\n",
      "        {\n",
      "            \"symbol\": \"TSLA\",\n",
      "            \"timestamp\": \"2018-11-22T10:05:12\",\n",
      "            \"order\": \"buy\",\n",
      "            \"price\": \"338.25\",\n",
      "            \"volume\": 100,\n",
      "            \"commission\": \"9.99\",\n",
      "            \"Object\": \"Trade\"\n",
      "        },\n",
      "        {\n",
      "            \"symbol\": \"AAPL\",\n",
      "            \"timestamp\": \"2018-11-22T10:30:05\",\n",
      "            \"order\": \"sell\",\n",
      "            \"price\": \"177.01\",\n",
      "            \"volume\": 20,\n",
      "            \"commission\": \"9.99\",\n",
      "            \"Object\": \"Trade\"\n",
      "        }\n",
      "    ]\n",
      "}\n"
     ]
    }
   ],
   "execution_count": 28
  },
  {
   "metadata": {
    "ExecuteTime": {
     "end_time": "2024-12-04T14:01:15.918886Z",
     "start_time": "2024-12-04T14:01:15.895228Z"
    }
   },
   "cell_type": "code",
   "source": [
    "def decode_stock(d):\n",
    "    s = Stock(d['symbol'],\n",
    "              datetime.strptime(d['date'],\n",
    "                                '%Y-%m-%d', ).date()\n",
    "              , Decimal(d['open'])\n",
    "              , Decimal(d['high'])\n",
    "              , Decimal(d['low'])\n",
    "              , Decimal(d['close'])\n",
    "              , int(d['volume']))\n",
    "    return s\n",
    "\n",
    "\n",
    "def decode_trade(d):\n",
    "    s = Trade(d['symbol'],\n",
    "              datetime.strptime(d['timestamp'], '%Y-%m-%dT%H:%M:%S'),\n",
    "              d['order'],\n",
    "              Decimal(d['price']),\n",
    "              int(d['volume']),\n",
    "              Decimal(d['commission']))\n",
    "    return s\n",
    "\n",
    "\n",
    "def decode_financials(d):\n",
    "    object_type = d.get('object', None)\n",
    "    if object_type == 'Stock':\n",
    "        return decode_stock(d)\n",
    "    elif object_type == 'Trade':\n",
    "        return decode_trade(d)\n",
    "    return d\n",
    "\n",
    "\n",
    "class CustomDecoder(json.JSONDecoder):\n",
    "    def decode(self, arg):\n",
    "        data = json.loads(arg)\n",
    "        # now we have to recursively look for `Trade` and `Stock` objects\n",
    "        return self.parse_financials(data)\n",
    "\n",
    "    def parse_financials(self, obj):\n",
    "        if isinstance(obj, dict):\n",
    "            obj = decode_financials(obj)\n",
    "            if isinstance(obj, dict):\n",
    "                for key, value in obj.items():\n",
    "                    obj[key] = self.parse_financials(value)\n",
    "        elif isinstance(obj, list):\n",
    "            for index, item in enumerate(obj):\n",
    "                obj[index] = self.parse_financials(item)\n",
    "        return obj"
   ],
   "id": "f8cba89e87c317c0",
   "outputs": [],
   "execution_count": 29
  },
  {
   "metadata": {
    "ExecuteTime": {
     "end_time": "2024-12-04T14:02:13.224479Z",
     "start_time": "2024-12-04T14:02:13.213749Z"
    }
   },
   "cell_type": "code",
   "source": [
    "encoded = json.dumps(activity, cls=CustomEncoder)\n",
    "decoded = json.loads(encoded, cls=CustomDecoder)"
   ],
   "id": "ea9fac111ec3625e",
   "outputs": [],
   "execution_count": 30
  },
  {
   "metadata": {
    "ExecuteTime": {
     "end_time": "2024-12-04T14:02:19.455551Z",
     "start_time": "2024-12-04T14:02:19.445567Z"
    }
   },
   "cell_type": "code",
   "source": "decoded",
   "id": "45ff270fc596a90",
   "outputs": [
    {
     "data": {
      "text/plain": [
       "{'quotes': [{'symbol': 'TSLA',\n",
       "   'date': '2018-11-22',\n",
       "   'open': '338.19',\n",
       "   'high': '338.64',\n",
       "   'low': '337.60',\n",
       "   'close': '338.19',\n",
       "   'volume': 365607,\n",
       "   'Object': 'Stock'},\n",
       "  {'symbol': 'AAPL',\n",
       "   'date': '2018-11-22',\n",
       "   'open': '176.66',\n",
       "   'high': '177.25',\n",
       "   'low': '176.64',\n",
       "   'close': '176.78',\n",
       "   'volume': 3699184,\n",
       "   'Object': 'Stock'},\n",
       "  {'symbol': 'MSFT',\n",
       "   'date': '2018-11-22',\n",
       "   'open': '103.25',\n",
       "   'high': '103.48',\n",
       "   'low': '103.07',\n",
       "   'close': '103.11',\n",
       "   'volume': 4493689,\n",
       "   'Object': 'Stock'}],\n",
       " 'trades': [{'symbol': 'TSLA',\n",
       "   'timestamp': '2018-11-22T10:05:12',\n",
       "   'order': 'buy',\n",
       "   'price': '338.25',\n",
       "   'volume': 100,\n",
       "   'commission': '9.99',\n",
       "   'Object': 'Trade'},\n",
       "  {'symbol': 'AAPL',\n",
       "   'timestamp': '2018-11-22T10:30:05',\n",
       "   'order': 'sell',\n",
       "   'price': '177.01',\n",
       "   'volume': 20,\n",
       "   'commission': '9.99',\n",
       "   'Object': 'Trade'}]}"
      ]
     },
     "execution_count": 31,
     "metadata": {},
     "output_type": "execute_result"
    }
   ],
   "execution_count": 31
  },
  {
   "metadata": {
    "ExecuteTime": {
     "end_time": "2024-12-04T14:08:14.538596Z",
     "start_time": "2024-12-04T14:08:14.519297Z"
    }
   },
   "cell_type": "code",
   "source": [
    "from marshmallow import Schema, fields\n",
    "from marshmallow import post_load\n",
    "\n",
    "\n",
    "class StockSchema(Schema):\n",
    "    symbol = fields.Str()\n",
    "    date = fields.Date()\n",
    "    open = fields.Decimal(as_string=True)\n",
    "    high = fields.Decimal(as_string=True)\n",
    "    low = fields.Decimal(as_string=True)\n",
    "    close = fields.Decimal(as_string=True)\n",
    "    volume = fields.Integer()\n",
    "\n",
    "    @post_load\n",
    "    def make_stock(self, data, **kwargs):\n",
    "        return Stock(**data)\n",
    "\n",
    "\n",
    "class TradeSchema(Schema):\n",
    "    symbol = fields.Str()\n",
    "    timestamp = fields.DateTime()\n",
    "    order = fields.Str()\n",
    "    price = fields.Decimal(as_string=True)\n",
    "    commission = fields.Decimal(as_string=True)\n",
    "    volume = fields.Integer()\n",
    "\n",
    "    @post_load\n",
    "    def make_trade(self, data, **kwargs):\n",
    "        return Trade(**data)\n",
    "\n",
    "\n",
    "class ActivitySchema(Schema):\n",
    "    trades = fields.Nested(TradeSchema, many=True)\n",
    "    quotes = fields.Nested(StockSchema, many=True)"
   ],
   "id": "c7d696e51572a38b",
   "outputs": [],
   "execution_count": 38
  },
  {
   "metadata": {
    "ExecuteTime": {
     "end_time": "2024-12-04T14:11:29.793719Z",
     "start_time": "2024-12-04T14:11:29.788736Z"
    }
   },
   "cell_type": "code",
   "source": [
    "res=ActivitySchema().dumps(activity, indent=2)\n",
    "print(res)"
   ],
   "id": "ee8d4e3fa36cc01e",
   "outputs": [
    {
     "name": "stdout",
     "output_type": "stream",
     "text": [
      "{\n",
      "  \"trades\": [\n",
      "    {\n",
      "      \"symbol\": \"TSLA\",\n",
      "      \"timestamp\": \"2018-11-22T10:05:12\",\n",
      "      \"order\": \"buy\",\n",
      "      \"price\": \"338.25\",\n",
      "      \"commission\": \"9.99\",\n",
      "      \"volume\": 100\n",
      "    },\n",
      "    {\n",
      "      \"symbol\": \"AAPL\",\n",
      "      \"timestamp\": \"2018-11-22T10:30:05\",\n",
      "      \"order\": \"sell\",\n",
      "      \"price\": \"177.01\",\n",
      "      \"commission\": \"9.99\",\n",
      "      \"volume\": 20\n",
      "    }\n",
      "  ],\n",
      "  \"quotes\": [\n",
      "    {\n",
      "      \"symbol\": \"TSLA\",\n",
      "      \"date\": \"2018-11-22\",\n",
      "      \"open\": \"338.19\",\n",
      "      \"high\": \"338.64\",\n",
      "      \"low\": \"337.60\",\n",
      "      \"close\": \"338.19\",\n",
      "      \"volume\": \"365607\"\n",
      "    },\n",
      "    {\n",
      "      \"symbol\": \"AAPL\",\n",
      "      \"date\": \"2018-11-22\",\n",
      "      \"open\": \"176.66\",\n",
      "      \"high\": \"177.25\",\n",
      "      \"low\": \"176.64\",\n",
      "      \"close\": \"176.78\",\n",
      "      \"volume\": \"3699184\"\n",
      "    },\n",
      "    {\n",
      "      \"symbol\": \"MSFT\",\n",
      "      \"date\": \"2018-11-22\",\n",
      "      \"open\": \"103.25\",\n",
      "      \"high\": \"103.48\",\n",
      "      \"low\": \"103.07\",\n",
      "      \"close\": \"103.11\",\n",
      "      \"volume\": \"4493689\"\n",
      "    }\n",
      "  ]\n",
      "}\n"
     ]
    }
   ],
   "execution_count": 42
  },
  {
   "metadata": {
    "ExecuteTime": {
     "end_time": "2024-12-04T14:35:42.066958Z",
     "start_time": "2024-12-04T14:35:42.059692Z"
    }
   },
   "cell_type": "code",
   "source": [
    "from pprint import pprint\n",
    "activity_deser = ActivitySchema().loads(res)\n",
    "pprint(activity_deser)"
   ],
   "id": "642e8bf2c37df984",
   "outputs": [
    {
     "name": "stdout",
     "output_type": "stream",
     "text": [
      "{'quotes': [{'close': Decimal('338.19'),\n",
      "             'date': datetime.date(2018, 11, 22),\n",
      "             'high': Decimal('338.64'),\n",
      "             'low': Decimal('337.60'),\n",
      "             'open': Decimal('338.19'),\n",
      "             'symbol': 'TSLA',\n",
      "             'volume': 365607},\n",
      "            {'close': Decimal('176.78'),\n",
      "             'date': datetime.date(2018, 11, 22),\n",
      "             'high': Decimal('177.25'),\n",
      "             'low': Decimal('176.64'),\n",
      "             'open': Decimal('176.66'),\n",
      "             'symbol': 'AAPL',\n",
      "             'volume': 3699184},\n",
      "            {'close': Decimal('103.11'),\n",
      "             'date': datetime.date(2018, 11, 22),\n",
      "             'high': Decimal('103.48'),\n",
      "             'low': Decimal('103.07'),\n",
      "             'open': Decimal('103.25'),\n",
      "             'symbol': 'MSFT',\n",
      "             'volume': 4493689}],\n",
      " 'trades': [{'commission': Decimal('9.99'),\n",
      "             'order': 'buy',\n",
      "             'price': Decimal('338.25'),\n",
      "             'symbol': 'TSLA',\n",
      "             'timestamp': datetime.datetime(2018, 11, 22, 10, 5, 12),\n",
      "             'volume': 100},\n",
      "            {'commission': Decimal('9.99'),\n",
      "             'order': 'sell',\n",
      "             'price': Decimal('177.01'),\n",
      "             'symbol': 'AAPL',\n",
      "             'timestamp': datetime.datetime(2018, 11, 22, 10, 30, 5),\n",
      "             'volume': 20}]}\n"
     ]
    }
   ],
   "execution_count": 45
  },
  {
   "metadata": {},
   "cell_type": "code",
   "outputs": [],
   "execution_count": null,
   "source": "",
   "id": "35fab80686c590ea"
  }
 ],
 "metadata": {
  "kernelspec": {
   "display_name": "Python 3",
   "language": "python",
   "name": "python3"
  },
  "language_info": {
   "codemirror_mode": {
    "name": "ipython",
    "version": 2
   },
   "file_extension": ".py",
   "mimetype": "text/x-python",
   "name": "python",
   "nbconvert_exporter": "python",
   "pygments_lexer": "ipython2",
   "version": "2.7.6"
  }
 },
 "nbformat": 4,
 "nbformat_minor": 5
}
