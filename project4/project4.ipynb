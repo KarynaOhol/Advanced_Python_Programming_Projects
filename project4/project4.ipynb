{
 "cells": [
  {
   "cell_type": "code",
   "id": "initial_id",
   "metadata": {
    "collapsed": true,
    "ExecuteTime": {
     "end_time": "2024-10-31T11:06:25.612093Z",
     "start_time": "2024-10-31T11:06:25.608202Z"
    }
   },
   "source": [
    "import csv\n",
    "from itertools import islice, chain\n",
    "from datetime import datetime\n",
    "from collections import namedtuple, defaultdict, Counter"
   ],
   "outputs": [],
   "execution_count": 2
  },
  {
   "metadata": {
    "ExecuteTime": {
     "end_time": "2024-10-31T11:06:26.988642Z",
     "start_time": "2024-10-31T11:06:26.984180Z"
    }
   },
   "cell_type": "code",
   "source": [
    "def cast_value(value):\n",
    "    def my_cast():\n",
    "        yield datetime, lambda x: datetime.strptime(x, \"%Y-%m-%dT%H:%M:%SZ\")\n",
    "        yield int, lambda x: int(x)\n",
    "        yield str, lambda x: str(x)\n",
    "\n",
    "    for expect_type, cast_fn in my_cast():\n",
    "        try:\n",
    "            return cast_fn(value)\n",
    "        except ValueError:\n",
    "            continue\n",
    "\n",
    "\n",
    "def cast_data_row(data_row):\n",
    "    return [cast_value(v) for v in data_row]"
   ],
   "id": "d4186ef9045def1b",
   "outputs": [],
   "execution_count": 3
  },
  {
   "metadata": {
    "ExecuteTime": {
     "end_time": "2024-10-31T11:06:29.449699Z",
     "start_time": "2024-10-31T11:06:29.443105Z"
    }
   },
   "cell_type": "code",
   "source": [
    "def read_file_rows(file_name):\n",
    "    with open(file_name) as f:\n",
    "        rows = csv.reader(f, delimiter=',', quotechar='\"')\n",
    "        next(rows)  # skip headers\n",
    "        for row in rows:\n",
    "            yield cast_data_row(row)\n",
    "\n",
    "\n",
    "def get_headers(file_name):\n",
    "    with open(file_name) as f:\n",
    "        rows = csv.reader(f, delimiter=',', quotechar='\"')\n",
    "        return next(rows)"
   ],
   "id": "df68050165f9c523",
   "outputs": [],
   "execution_count": 4
  },
  {
   "metadata": {
    "ExecuteTime": {
     "end_time": "2024-10-31T11:06:32.011353Z",
     "start_time": "2024-10-31T11:06:32.006217Z"
    }
   },
   "cell_type": "code",
   "source": [
    "def create_obj_from_file(file_name):\n",
    "    obj = namedtuple(file_name.removesuffix('.csv').capitalize(), get_headers(file_name))\n",
    "    data = read_file_rows(file_name)\n",
    "    for row in data:\n",
    "        yield obj(*row)"
   ],
   "id": "c4b9d13db1c45a16",
   "outputs": [],
   "execution_count": 5
  },
  {
   "metadata": {
    "ExecuteTime": {
     "end_time": "2024-10-31T11:06:33.387763Z",
     "start_time": "2024-10-31T11:06:33.381336Z"
    }
   },
   "cell_type": "code",
   "source": [
    "def create_obj_from_files(*file_names):\n",
    "    headers = [get_headers(f) for f in file_names]\n",
    "    column_names = headers[0] + [col for header in headers[1:] for col in header[1:]]\n",
    "    CombinedRow = namedtuple('CombinedRow', column_names)\n",
    "    for rows in zip(*(read_file_rows(f) for f in file_names)):\n",
    "        combined_row = [rows[0][0]] + list(chain.from_iterable(row[1:] for row in rows))\n",
    "        yield CombinedRow(*combined_row)"
   ],
   "id": "84efe365c7f64287",
   "outputs": [],
   "execution_count": 6
  },
  {
   "metadata": {
    "ExecuteTime": {
     "end_time": "2024-10-31T09:16:24.741392Z",
     "start_time": "2024-10-31T09:16:24.716630Z"
    }
   },
   "cell_type": "code",
   "source": [
    "employment = create_obj_from_file('employment.csv')\n",
    "pers_inf = create_obj_from_file('personal_info.csv')\n",
    "upd_status = create_obj_from_file('update_status.csv')\n",
    "vehicle = create_obj_from_file('vehicles.csv')\n",
    "\n",
    "for i in islice(employment, 1):\n",
    "    print(i)\n",
    "for i in islice(pers_inf, 1):\n",
    "    print(i)\n",
    "for i in islice(upd_status, 1):\n",
    "    print(i)\n",
    "for i in islice(vehicle, 1):\n",
    "    print(i)"
   ],
   "id": "794e186f7ed6bad6",
   "outputs": [
    {
     "name": "stdout",
     "output_type": "stream",
     "text": [
      "Employment(employer='Stiedemann-Bailey', department='Research and Development', employee_id='29-0890771', ssn='100-53-9824')\n",
      "Personal_info(ssn='100-53-9824', first_name='Sebastiano', last_name='Tester', gender='Male', language='Icelandic')\n",
      "Update_status(ssn='100-53-9824', last_updated=datetime.datetime(2017, 10, 7, 0, 14, 42), created=datetime.datetime(2016, 1, 24, 21, 19, 30))\n",
      "Vehicles(ssn='100-53-9824', vehicle_make='Oldsmobile', vehicle_model='Bravada', model_year=1993)\n"
     ]
    }
   ],
   "execution_count": 16
  },
  {
   "metadata": {
    "ExecuteTime": {
     "end_time": "2024-10-31T11:10:26.273114Z",
     "start_time": "2024-10-31T11:10:26.267856Z"
    }
   },
   "cell_type": "code",
   "source": [
    "comb_obj = create_obj_from_files('employment.csv', 'personal_info.csv', 'update_status.csv', 'vehicles.csv')\n",
    "for i in islice(comb_obj, 3):\n",
    "    print(i)"
   ],
   "id": "26570f15f8517f27",
   "outputs": [
    {
     "name": "stdout",
     "output_type": "stream",
     "text": [
      "CombinedRow(employer='Stiedemann-Bailey', department='Research and Development', employee_id='29-0890771', ssn='100-53-9824', first_name='Sebastiano', last_name='Tester', gender='Male', language='Icelandic', last_updated=datetime.datetime(2017, 10, 7, 0, 14, 42), created=datetime.datetime(2016, 1, 24, 21, 19, 30), vehicle_make='Oldsmobile', vehicle_model='Bravada', model_year=1993)\n",
      "CombinedRow(employer='Nicolas and Sons', department='Sales', employee_id='41-6841359', ssn='101-71-4702', first_name='Cayla', last_name='MacDonagh', gender='Female', language='Lao', last_updated=datetime.datetime(2017, 1, 23, 11, 23, 17), created=datetime.datetime(2016, 1, 27, 4, 32, 57), vehicle_make='Ford', vehicle_model='Mustang', model_year=1997)\n",
      "CombinedRow(employer='Connelly Group', department='Research and Development', employee_id='98-7952860', ssn='101-84-0356', first_name='Nomi', last_name='Lipprose', gender='Female', language='Yiddish', last_updated=datetime.datetime(2017, 10, 4, 11, 21, 30), created=datetime.datetime(2016, 9, 21, 23, 4, 7), vehicle_make='GMC', vehicle_model='Yukon', model_year=2005)\n"
     ]
    }
   ],
   "execution_count": 18
  },
  {
   "metadata": {
    "ExecuteTime": {
     "end_time": "2024-10-31T10:00:03.821838Z",
     "start_time": "2024-10-31T10:00:03.813393Z"
    }
   },
   "cell_type": "code",
   "source": [
    "def create_obj_non_stale_records(*file_names, cut_off_date=datetime(2017, 3, 1, 0, 0, 0)):\n",
    "    headers = [get_headers(f) for f in file_names]\n",
    "    column_names = headers[0] + [col for header in headers[1:] for col in header[1:]]\n",
    "    CombinedRow = namedtuple('CombinedRow', column_names)\n",
    "\n",
    "    last_updated_index = column_names.index('last_updated')\n",
    "\n",
    "    for rows in zip(*(read_file_rows(f) for f in file_names)):\n",
    "        combined_row = [rows[0][0]] + list(chain.from_iterable(row[1:] for row in rows))\n",
    "\n",
    "        last_updated_dt = combined_row[last_updated_index]\n",
    "        if last_updated_dt >= cut_off_date:\n",
    "            yield CombinedRow(*combined_row)"
   ],
   "id": "3247340507541c79",
   "outputs": [],
   "execution_count": 23
  },
  {
   "metadata": {
    "ExecuteTime": {
     "end_time": "2024-10-31T10:03:18.963257Z",
     "start_time": "2024-10-31T10:03:18.958918Z"
    }
   },
   "cell_type": "code",
   "source": [
    "comb_obj = create_obj_non_stale_records('employment.csv', 'personal_info.csv', 'update_status.csv', 'vehicles.csv')\n",
    "for i in islice(comb_obj, 1):\n",
    "    print(i)"
   ],
   "id": "d776991555e8ee1d",
   "outputs": [
    {
     "name": "stdout",
     "output_type": "stream",
     "text": [
      "CombinedRow(employer='Stiedemann-Bailey', department='Research and Development', employee_id='29-0890771', ssn='100-53-9824', first_name='Sebastiano', last_name='Tester', gender='Male', language='Icelandic', last_updated=datetime.datetime(2017, 10, 7, 0, 14, 42), created=datetime.datetime(2016, 1, 24, 21, 19, 30), vehicle_make='Oldsmobile', vehicle_model='Bravada', model_year=1993)\n"
     ]
    }
   ],
   "execution_count": 25
  },
  {
   "metadata": {
    "ExecuteTime": {
     "end_time": "2024-10-31T11:11:55.448975Z",
     "start_time": "2024-10-31T11:11:55.443383Z"
    }
   },
   "cell_type": "code",
   "source": [
    "def largest_car_make_by_gender(*file_names):\n",
    "    make_counts_by_gender = defaultdict(Counter)\n",
    "    for row in create_obj_from_files(*file_names):\n",
    "        gender = row.gender\n",
    "        vehicle_make = row.vehicle_make\n",
    "        make_counts_by_gender[gender][vehicle_make] += 1\n",
    "\n",
    "    largest_groups = {}\n",
    "    for gender, make_counts in make_counts_by_gender.items():\n",
    "        max_count = max(make_counts.values())\n",
    "        largest_groups[gender] = [(make, count) for make, count in make_counts.items() if count == max_count]\n",
    "    return largest_groups"
   ],
   "id": "cdd3ca3b320bb924",
   "outputs": [],
   "execution_count": 19
  },
  {
   "metadata": {
    "ExecuteTime": {
     "end_time": "2024-10-31T11:11:58.375616Z",
     "start_time": "2024-10-31T11:11:58.243983Z"
    }
   },
   "cell_type": "code",
   "source": [
    "largest_groups = largest_car_make_by_gender('employment.csv', 'personal_info.csv', 'update_status.csv', 'vehicles.csv')\n",
    "for gender, makes in largest_groups.items():\n",
    "    print(f\"Largest car make group(s) for {gender}:\")\n",
    "    for make, count in makes:\n",
    "        print(f\" - {make}: {count} vehicles\")"
   ],
   "id": "7172848d7bbc087f",
   "outputs": [
    {
     "name": "stdout",
     "output_type": "stream",
     "text": [
      "Largest car make group(s) for Male:\n",
      " - Ford: 44 vehicles\n",
      "Largest car make group(s) for Female:\n",
      " - Ford: 48 vehicles\n",
      " - Chevrolet: 48 vehicles\n"
     ]
    }
   ],
   "execution_count": 20
  },
  {
   "metadata": {},
   "cell_type": "code",
   "outputs": [],
   "execution_count": null,
   "source": "",
   "id": "aec274db42e3a0d1"
  }
 ],
 "metadata": {
  "kernelspec": {
   "display_name": "Python 3",
   "language": "python",
   "name": "python3"
  },
  "language_info": {
   "codemirror_mode": {
    "name": "ipython",
    "version": 2
   },
   "file_extension": ".py",
   "mimetype": "text/x-python",
   "name": "python",
   "nbconvert_exporter": "python",
   "pygments_lexer": "ipython2",
   "version": "2.7.6"
  }
 },
 "nbformat": 4,
 "nbformat_minor": 5
}
