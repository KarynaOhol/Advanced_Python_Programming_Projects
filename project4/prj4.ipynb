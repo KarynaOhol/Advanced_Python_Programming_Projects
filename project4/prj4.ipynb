{
 "cells": [
  {
   "cell_type": "code",
   "id": "initial_id",
   "metadata": {
    "collapsed": true,
    "ExecuteTime": {
     "end_time": "2024-10-30T16:52:36.570548Z",
     "start_time": "2024-10-30T16:52:36.559981Z"
    }
   },
   "source": [
    "import csv\n",
    "from itertools import islice, chain, compress\n",
    "from datetime import datetime\n",
    "from collections import namedtuple\n",
    "\n"
   ],
   "outputs": [],
   "execution_count": 81
  },
  {
   "metadata": {
    "ExecuteTime": {
     "end_time": "2024-10-30T15:44:53.401979Z",
     "start_time": "2024-10-30T15:44:53.395665Z"
    }
   },
   "cell_type": "code",
   "source": [
    "def read_file(file_name):\n",
    "    with open(file_name) as f:\n",
    "        rows = csv.reader(f, delimiter=',', quotechar='\"')\n",
    "        for row in rows:\n",
    "            yield cast_data_row(row)\n",
    "\n",
    "\n",
    "def cast_value(value):\n",
    "    def my_cast():\n",
    "        yield datetime, lambda x: datetime.strptime(x, \"%Y-%m-%dT%H:%M:%SZ\")\n",
    "        yield int, lambda x: int(x)\n",
    "        yield str, lambda x: str(x)\n",
    "\n",
    "    for expect_type, cast_fn in my_cast():\n",
    "        try:\n",
    "            return cast_fn(value)\n",
    "        except ValueError:\n",
    "            continue\n",
    "\n",
    "\n",
    "def cast_data_row(data_row):\n",
    "    return [cast_value(v) for v in data_row]\n",
    "\n",
    "\n",
    "pers_inf = read_file('update_status.csv')\n",
    "for i in islice(pers_inf, 3):\n",
    "    print(i)"
   ],
   "id": "437209660487e4",
   "outputs": [
    {
     "name": "stdout",
     "output_type": "stream",
     "text": [
      "['ssn', 'last_updated', 'created']\n"
     ]
    }
   ],
   "execution_count": 26
  },
  {
   "metadata": {
    "ExecuteTime": {
     "end_time": "2024-10-30T16:28:04.963020Z",
     "start_time": "2024-10-30T16:28:04.950606Z"
    }
   },
   "cell_type": "code",
   "source": [
    "def create_obj_from_file(file_name):\n",
    "    data = read_file(file_name)\n",
    "    obj = namedtuple(file_name.removesuffix('.csv').capitalize(), *islice(data, 1))\n",
    "    for row in data:\n",
    "        yield obj(*row)\n",
    "\n",
    "\n",
    "employment = create_obj_from_file('employment.csv')\n",
    "pers_inf = create_obj_from_file('personal_info.csv')\n",
    "upd_status = create_obj_from_file('update_status.csv')\n",
    "vehicle = create_obj_from_file('vehicles.csv')\n",
    "\n",
    "for i in islice(employment, 1):\n",
    "    print(i)\n",
    "for i in islice(pers_inf, 1):\n",
    "    print(i)\n",
    "for i in islice(upd_status, 1):\n",
    "    print(i)\n",
    "for i in islice(vehicle, 1):\n",
    "    print(i)"
   ],
   "id": "ce424420ceced3fa",
   "outputs": [
    {
     "name": "stdout",
     "output_type": "stream",
     "text": [
      "Employment(employer='Stiedemann-Bailey', department='Research and Development', employee_id='29-0890771', ssn='100-53-9824')\n",
      "Personal_info(ssn='100-53-9824', first_name='Sebastiano', last_name='Tester', gender='Male', language='Icelandic')\n",
      "Update_status(ssn='100-53-9824', last_updated=datetime.datetime(2017, 10, 7, 0, 14, 42), created=datetime.datetime(2016, 1, 24, 21, 19, 30))\n",
      "Vehicles(ssn='100-53-9824', vehicle_make='Oldsmobile', vehicle_model='Bravada', model_year=1993)\n"
     ]
    }
   ],
   "execution_count": 35
  },
  {
   "metadata": {
    "ExecuteTime": {
     "end_time": "2024-10-30T16:38:51.921554Z",
     "start_time": "2024-10-30T16:38:51.910769Z"
    }
   },
   "cell_type": "code",
   "source": [
    "def create_obj_from_files(*file_names):\n",
    "    headers = []\n",
    "    for file in (read_file(f) for f in file_names):\n",
    "        headers.append(*islice(file, 1))\n",
    "    return headers"
   ],
   "id": "d8d57a4bbc8446eb",
   "outputs": [],
   "execution_count": 65
  },
  {
   "metadata": {
    "ExecuteTime": {
     "end_time": "2024-10-30T16:38:54.167076Z",
     "start_time": "2024-10-30T16:38:54.160536Z"
    }
   },
   "cell_type": "code",
   "source": "create_obj_from_files('employment.csv', 'personal_info.csv', 'update_status.csv', 'vehicles.csv')",
   "id": "617be3dfa0e2cc35",
   "outputs": [
    {
     "data": {
      "text/plain": [
       "[['employer', 'department', 'employee_id', 'ssn'],\n",
       " ['ssn', 'first_name', 'last_name', 'gender', 'language'],\n",
       " ['ssn', 'last_updated', 'created'],\n",
       " ['ssn', 'vehicle_make', 'vehicle_model', 'model_year']]"
      ]
     },
     "execution_count": 66,
     "metadata": {},
     "output_type": "execute_result"
    }
   ],
   "execution_count": 66
  },
  {
   "metadata": {
    "ExecuteTime": {
     "end_time": "2024-10-30T16:52:53.366658Z",
     "start_time": "2024-10-30T16:52:53.361374Z"
    }
   },
   "cell_type": "code",
   "source": [
    "def create_obj_from_files(*file_names):\n",
    "    headers = chain(islice(file, 1) for file in (read_file(f) for f in file_names))\n",
    "    return compress(headers, )"
   ],
   "id": "590d1683caef212d",
   "outputs": [],
   "execution_count": 82
  },
  {
   "metadata": {
    "ExecuteTime": {
     "end_time": "2024-10-30T16:50:22.593532Z",
     "start_time": "2024-10-30T16:50:22.583991Z"
    }
   },
   "cell_type": "code",
   "source": [
    "t = create_obj_from_files('employment.csv', 'personal_info.csv', 'update_status.csv', 'vehicles.csv')\n",
    "for i in t:\n",
    "    for j in i:\n",
    "        print(j)"
   ],
   "id": "5757dee0ce21e398",
   "outputs": [
    {
     "name": "stdout",
     "output_type": "stream",
     "text": [
      "['employer', 'department', 'employee_id', 'ssn']\n",
      "['ssn', 'first_name', 'last_name', 'gender', 'language']\n",
      "['ssn', 'last_updated', 'created']\n",
      "['ssn', 'vehicle_make', 'vehicle_model', 'model_year']\n"
     ]
    }
   ],
   "execution_count": 78
  },
  {
   "metadata": {
    "ExecuteTime": {
     "end_time": "2024-10-30T16:52:57.221403Z",
     "start_time": "2024-10-30T16:52:57.167986Z"
    }
   },
   "cell_type": "code",
   "source": "t = create_obj_from_files('employment.csv', 'personal_info.csv', 'update_status.csv', 'vehicles.csv')",
   "id": "eec4cc920f736546",
   "outputs": [
    {
     "ename": "TypeError",
     "evalue": "compress() missing required argument 'selectors' (pos 2)",
     "output_type": "error",
     "traceback": [
      "\u001B[0;31m---------------------------------------------------------------------------\u001B[0m",
      "\u001B[0;31mTypeError\u001B[0m                                 Traceback (most recent call last)",
      "Cell \u001B[0;32mIn[83], line 1\u001B[0m\n\u001B[0;32m----> 1\u001B[0m t \u001B[38;5;241m=\u001B[39m \u001B[43mcreate_obj_from_files\u001B[49m\u001B[43m(\u001B[49m\u001B[38;5;124;43m'\u001B[39;49m\u001B[38;5;124;43memployment.csv\u001B[39;49m\u001B[38;5;124;43m'\u001B[39;49m\u001B[43m,\u001B[49m\u001B[43m \u001B[49m\u001B[38;5;124;43m'\u001B[39;49m\u001B[38;5;124;43mpersonal_info.csv\u001B[39;49m\u001B[38;5;124;43m'\u001B[39;49m\u001B[43m,\u001B[49m\u001B[43m \u001B[49m\u001B[38;5;124;43m'\u001B[39;49m\u001B[38;5;124;43mupdate_status.csv\u001B[39;49m\u001B[38;5;124;43m'\u001B[39;49m\u001B[43m,\u001B[49m\u001B[43m \u001B[49m\u001B[38;5;124;43m'\u001B[39;49m\u001B[38;5;124;43mvehicles.csv\u001B[39;49m\u001B[38;5;124;43m'\u001B[39;49m\u001B[43m)\u001B[49m\n",
      "Cell \u001B[0;32mIn[82], line 3\u001B[0m, in \u001B[0;36mcreate_obj_from_files\u001B[0;34m(*file_names)\u001B[0m\n\u001B[1;32m      1\u001B[0m \u001B[38;5;28;01mdef\u001B[39;00m \u001B[38;5;21mcreate_obj_from_files\u001B[39m(\u001B[38;5;241m*\u001B[39mfile_names):\n\u001B[1;32m      2\u001B[0m     headers \u001B[38;5;241m=\u001B[39m chain(islice(file, \u001B[38;5;241m1\u001B[39m) \u001B[38;5;28;01mfor\u001B[39;00m file \u001B[38;5;129;01min\u001B[39;00m (read_file(f) \u001B[38;5;28;01mfor\u001B[39;00m f \u001B[38;5;129;01min\u001B[39;00m file_names))\n\u001B[0;32m----> 3\u001B[0m     \u001B[38;5;28;01mreturn\u001B[39;00m \u001B[43mcompress\u001B[49m\u001B[43m(\u001B[49m\u001B[43mheaders\u001B[49m\u001B[43m)\u001B[49m\n",
      "\u001B[0;31mTypeError\u001B[0m: compress() missing required argument 'selectors' (pos 2)"
     ]
    }
   ],
   "execution_count": 83
  },
  {
   "metadata": {
    "ExecuteTime": {
     "end_time": "2024-10-31T08:52:52.178162Z",
     "start_time": "2024-10-31T08:52:52.161939Z"
    }
   },
   "cell_type": "code",
   "source": [
    "def create_obj_from_files(*file_names):\n",
    "    headers = [next(read_file(f)) for f in file_names]\n",
    "    column_names = headers[0] + [col for header in headers[1:] for col in header[1:]]\n",
    "    CombinedRow = namedtuple('CombinedRow', column_names)\n",
    "    for rows in zip(*(read_file(f) for f in file_names)):\n",
    "        combined_row = [rows[0][0]] + [col for row in rows for col in row[1:]]\n",
    "        yield CombinedRow(*combined_row)\n",
    "\n"
   ],
   "id": "9b9fe436a3277e8c",
   "outputs": [],
   "execution_count": 130
  },
  {
   "metadata": {
    "ExecuteTime": {
     "end_time": "2024-10-31T09:07:01.692172Z",
     "start_time": "2024-10-31T09:07:01.674956Z"
    }
   },
   "cell_type": "code",
   "source": [
    "def create_obj_from_files(*file_names):\n",
    "    headers = [next(read_file(f)) for f in file_names]\n",
    "    column_names = headers[0] + [col for header in headers[1:] for col in header[1:]]\n",
    "    CombinedRow = namedtuple('CombinedRow', column_names)\n",
    "    for rows in zip(*(islice(read_file(f), 1, None) for f in file_names)):\n",
    "        combined_row = [rows[0][0]] + list(chain.from_iterable(row[1:] for row in rows))\n",
    "        yield CombinedRow(*combined_row)"
   ],
   "id": "1ea9b7c96520b27f",
   "outputs": [],
   "execution_count": 140
  },
  {
   "metadata": {
    "ExecuteTime": {
     "end_time": "2024-10-31T07:56:09.424508Z",
     "start_time": "2024-10-31T07:56:09.401710Z"
    }
   },
   "cell_type": "code",
   "source": "create_obj_from_files('employment.csv', 'personal_info.csv', 'update_status.csv', 'vehicles.csv')",
   "id": "dcc14b18d2cced67",
   "outputs": [
    {
     "data": {
      "text/plain": [
       "[['employer', 'department', 'employee_id', 'ssn'],\n",
       " ['ssn', 'first_name', 'last_name', 'gender', 'language'],\n",
       " ['ssn', 'last_updated', 'created'],\n",
       " ['ssn', 'vehicle_make', 'vehicle_model', 'model_year']]"
      ]
     },
     "execution_count": 92,
     "metadata": {},
     "output_type": "execute_result"
    }
   ],
   "execution_count": 92
  },
  {
   "metadata": {
    "ExecuteTime": {
     "end_time": "2024-10-31T07:56:25.844186Z",
     "start_time": "2024-10-31T07:56:25.823047Z"
    }
   },
   "cell_type": "code",
   "source": "create_obj_from_files('employment.csv', 'personal_info.csv', 'update_status.csv', 'vehicles.csv')",
   "id": "1470eb483e53317d",
   "outputs": [
    {
     "data": {
      "text/plain": [
       "['employer',\n",
       " 'department',\n",
       " 'employee_id',\n",
       " 'ssn',\n",
       " 'first_name',\n",
       " 'last_name',\n",
       " 'gender',\n",
       " 'language',\n",
       " 'last_updated',\n",
       " 'created',\n",
       " 'vehicle_make',\n",
       " 'vehicle_model',\n",
       " 'model_year']"
      ]
     },
     "execution_count": 94,
     "metadata": {},
     "output_type": "execute_result"
    }
   ],
   "execution_count": 94
  },
  {
   "metadata": {
    "ExecuteTime": {
     "end_time": "2024-10-31T09:01:14.749730Z",
     "start_time": "2024-10-31T09:01:14.727397Z"
    }
   },
   "cell_type": "code",
   "source": [
    "comb_obj = create_obj_from_files('employment.csv', 'personal_info.csv', 'update_status.csv', 'vehicles.csv')\n",
    "for i in islice(comb_obj, 2):\n",
    "    print(i)"
   ],
   "id": "e788e9b9e9f6d781",
   "outputs": [
    {
     "name": "stdout",
     "output_type": "stream",
     "text": [
      "CombinedRow(employer='Stiedemann-Bailey', department='Research and Development', employee_id='29-0890771', ssn='100-53-9824', first_name='Sebastiano', last_name='Tester', gender='Male', language='Icelandic', last_updated=datetime.datetime(2017, 10, 7, 0, 14, 42), created=datetime.datetime(2016, 1, 24, 21, 19, 30), vehicle_make='Oldsmobile', vehicle_model='Bravada', model_year=1993)\n",
      "CombinedRow(employer='Nicolas and Sons', department='Sales', employee_id='41-6841359', ssn='101-71-4702', first_name='Cayla', last_name='MacDonagh', gender='Female', language='Lao', last_updated=datetime.datetime(2017, 1, 23, 11, 23, 17), created=datetime.datetime(2016, 1, 27, 4, 32, 57), vehicle_make='Ford', vehicle_model='Mustang', model_year=1997)\n"
     ]
    }
   ],
   "execution_count": 139
  },
  {
   "metadata": {
    "ExecuteTime": {
     "end_time": "2024-10-31T09:07:09.064256Z",
     "start_time": "2024-10-31T09:07:09.040804Z"
    }
   },
   "cell_type": "code",
   "source": [
    "comb_obj = create_obj_from_files('employment.csv', 'personal_info.csv', 'update_status.csv', 'vehicles.csv')\n",
    "for i in islice(comb_obj, 2):\n",
    "    print(i)"
   ],
   "id": "537a341b765add81",
   "outputs": [
    {
     "name": "stdout",
     "output_type": "stream",
     "text": [
      "CombinedRow(employer='Stiedemann-Bailey', department='Research and Development', employee_id='29-0890771', ssn='100-53-9824', first_name='Sebastiano', last_name='Tester', gender='Male', language='Icelandic', last_updated=datetime.datetime(2017, 10, 7, 0, 14, 42), created=datetime.datetime(2016, 1, 24, 21, 19, 30), vehicle_make='Oldsmobile', vehicle_model='Bravada', model_year=1993)\n",
      "CombinedRow(employer='Nicolas and Sons', department='Sales', employee_id='41-6841359', ssn='101-71-4702', first_name='Cayla', last_name='MacDonagh', gender='Female', language='Lao', last_updated=datetime.datetime(2017, 1, 23, 11, 23, 17), created=datetime.datetime(2016, 1, 27, 4, 32, 57), vehicle_make='Ford', vehicle_model='Mustang', model_year=1997)\n"
     ]
    }
   ],
   "execution_count": 141
  },
  {
   "metadata": {},
   "cell_type": "code",
   "outputs": [],
   "execution_count": null,
   "source": "",
   "id": "ae216c8282327d37"
  }
 ],
 "metadata": {
  "kernelspec": {
   "display_name": "Python 3",
   "language": "python",
   "name": "python3"
  },
  "language_info": {
   "codemirror_mode": {
    "name": "ipython",
    "version": 2
   },
   "file_extension": ".py",
   "mimetype": "text/x-python",
   "name": "python",
   "nbconvert_exporter": "python",
   "pygments_lexer": "ipython2",
   "version": "2.7.6"
  }
 },
 "nbformat": 4,
 "nbformat_minor": 5
}
