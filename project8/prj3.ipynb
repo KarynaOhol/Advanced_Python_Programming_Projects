{
 "cells": [
  {
   "cell_type": "code",
   "id": "initial_id",
   "metadata": {
    "collapsed": true,
    "ExecuteTime": {
     "end_time": "2024-12-10T18:27:40.457114Z",
     "start_time": "2024-12-10T18:27:40.443769Z"
    }
   },
   "source": [
    "from collections import Counter, ChainMap, defaultdict\n",
    "\n",
    "d1 = {'python': 10, 'java': 3, 'c#': 8, 'javascript': 15}\n",
    "d2 = {'java': 10, 'c++': 10, 'c#': 4, 'go': 9, 'python': 6}\n",
    "d3 = {'erlang': 5, 'haskell': 2, 'python': 1, 'pascal': 1}\n"
   ],
   "outputs": [],
   "execution_count": 19
  },
  {
   "metadata": {
    "ExecuteTime": {
     "end_time": "2024-12-10T18:19:06.498477Z",
     "start_time": "2024-12-10T18:19:06.481994Z"
    }
   },
   "cell_type": "code",
   "source": [
    "ch = ChainMap(d1, d2, d3)\n",
    "c = Counter(ch)\n",
    "ch, c"
   ],
   "id": "78090d28558d7131",
   "outputs": [
    {
     "data": {
      "text/plain": [
       "(ChainMap({'python': 10, 'java': 3, 'c#': 8, 'javascript': 15}, {'java': 10, 'c++': 10, 'c#': 4, 'go': 9, 'python': 6}, {'erlang': 5, 'haskell': 2, 'python': 1, 'pascal': 1}),\n",
       " Counter({'javascript': 15,\n",
       "          'python': 10,\n",
       "          'c++': 10,\n",
       "          'go': 9,\n",
       "          'c#': 8,\n",
       "          'erlang': 5,\n",
       "          'java': 3,\n",
       "          'haskell': 2,\n",
       "          'pascal': 1}))"
      ]
     },
     "execution_count": 12,
     "metadata": {},
     "output_type": "execute_result"
    }
   ],
   "execution_count": 12
  },
  {
   "metadata": {
    "ExecuteTime": {
     "end_time": "2024-12-10T18:21:21.626157Z",
     "start_time": "2024-12-10T18:21:21.608958Z"
    }
   },
   "cell_type": "code",
   "source": [
    "c = Counter(d1) + Counter(d2) + Counter(d3)\n",
    "c\n"
   ],
   "id": "76647e818e1f4cd9",
   "outputs": [
    {
     "data": {
      "text/plain": [
       "Counter({'python': 17,\n",
       "         'javascript': 15,\n",
       "         'java': 13,\n",
       "         'c#': 12,\n",
       "         'c++': 10,\n",
       "         'go': 9,\n",
       "         'erlang': 5,\n",
       "         'haskell': 2,\n",
       "         'pascal': 1})"
      ]
     },
     "execution_count": 13,
     "metadata": {},
     "output_type": "execute_result"
    }
   ],
   "execution_count": 13
  },
  {
   "metadata": {
    "ExecuteTime": {
     "end_time": "2024-12-10T18:21:51.929943Z",
     "start_time": "2024-12-10T18:21:51.913442Z"
    }
   },
   "cell_type": "code",
   "source": [
    "c = Counter(d1) + Counter(d2)\n",
    "c"
   ],
   "id": "6d13dc2d07ff1a3e",
   "outputs": [
    {
     "data": {
      "text/plain": [
       "Counter({'python': 16,\n",
       "         'javascript': 15,\n",
       "         'java': 13,\n",
       "         'c#': 12,\n",
       "         'c++': 10,\n",
       "         'go': 9})"
      ]
     },
     "execution_count": 14,
     "metadata": {},
     "output_type": "execute_result"
    }
   ],
   "execution_count": 14
  },
  {
   "metadata": {
    "ExecuteTime": {
     "end_time": "2024-12-10T18:32:41.376238Z",
     "start_time": "2024-12-10T18:32:41.356130Z"
    }
   },
   "cell_type": "code",
   "source": [
    "res = defaultdict(int)\n",
    "for d in (d1, d2, d3):\n",
    "    for k, v in d.items():\n",
    "        res[k] += v\n",
    "res"
   ],
   "id": "d3ea74291c4d14b9",
   "outputs": [
    {
     "data": {
      "text/plain": [
       "defaultdict(int,\n",
       "            {'python': 17,\n",
       "             'java': 13,\n",
       "             'c#': 12,\n",
       "             'javascript': 15,\n",
       "             'c++': 10,\n",
       "             'go': 9,\n",
       "             'erlang': 5,\n",
       "             'haskell': 2,\n",
       "             'pascal': 1})"
      ]
     },
     "execution_count": 23,
     "metadata": {},
     "output_type": "execute_result"
    }
   ],
   "execution_count": 23
  },
  {
   "metadata": {
    "ExecuteTime": {
     "end_time": "2024-12-10T18:33:05.753993Z",
     "start_time": "2024-12-10T18:33:05.726356Z"
    }
   },
   "cell_type": "code",
   "source": [
    "def merge(*dicts):\n",
    "    unsorted = {}\n",
    "    for d in dicts:\n",
    "        for k, v in d.items():\n",
    "            unsorted[k] = unsorted.get(k, 0) + v\n",
    "\n",
    "    # create a dictionary sorted by value\n",
    "    return dict(sorted(unsorted.items(), key=lambda e: e[1], reverse=True))\n",
    "\n",
    "\n",
    "merge(d1, d2, d3)"
   ],
   "id": "4a7bb4efcd062a47",
   "outputs": [
    {
     "data": {
      "text/plain": [
       "{'python': 17,\n",
       " 'javascript': 15,\n",
       " 'java': 13,\n",
       " 'c#': 12,\n",
       " 'c++': 10,\n",
       " 'go': 9,\n",
       " 'erlang': 5,\n",
       " 'haskell': 2,\n",
       " 'pascal': 1}"
      ]
     },
     "execution_count": 25,
     "metadata": {},
     "output_type": "execute_result"
    }
   ],
   "execution_count": 25
  },
  {
   "metadata": {
    "ExecuteTime": {
     "end_time": "2024-12-10T18:52:03.346827Z",
     "start_time": "2024-12-10T18:52:03.331078Z"
    }
   },
   "cell_type": "code",
   "source": [
    "eye_colors = (\"amber\", \"blue\", \"brown\", \"gray\", \"green\", \"hazel\", \"red\", \"violet\")\n",
    "\n",
    "\n",
    "class Person:\n",
    "    def __init__(self, eye_color):\n",
    "        self.eye_color = eye_color\n",
    "\n",
    "    def __repr__(self):\n",
    "        return self.eye_color\n",
    "\n",
    "\n",
    "from random import seed, choices\n",
    "\n",
    "seed(0)\n",
    "persons = [Person(color) for color in choices(eye_colors[2:], k=50)]\n"
   ],
   "id": "5e380dc79f9c941b",
   "outputs": [],
   "execution_count": 43
  },
  {
   "metadata": {
    "ExecuteTime": {
     "end_time": "2024-12-10T18:55:51.704408Z",
     "start_time": "2024-12-10T18:55:51.685245Z"
    }
   },
   "cell_type": "code",
   "source": [
    "res = defaultdict(int)\n",
    "for pers in persons:\n",
    "    color = pers.eye_color\n",
    "    res[color] += 1\n",
    "res"
   ],
   "id": "d90c50c03ce86987",
   "outputs": [
    {
     "data": {
      "text/plain": [
       "defaultdict(int,\n",
       "            {'violet': 12,\n",
       "             'red': 10,\n",
       "             'green': 8,\n",
       "             'gray': 10,\n",
       "             'hazel': 7,\n",
       "             'brown': 3})"
      ]
     },
     "execution_count": 53,
     "metadata": {},
     "output_type": "execute_result"
    }
   ],
   "execution_count": 53
  },
  {
   "metadata": {
    "ExecuteTime": {
     "end_time": "2024-12-10T18:55:58.042718Z",
     "start_time": "2024-12-10T18:55:58.022168Z"
    }
   },
   "cell_type": "code",
   "source": [
    "res = dict.fromkeys(eye_colors, 0)\n",
    "for pers in persons:\n",
    "    color = pers.eye_color\n",
    "    res[color] += 1\n",
    "res"
   ],
   "id": "a9bed343e9b5eecd",
   "outputs": [
    {
     "data": {
      "text/plain": [
       "{'amber': 0,\n",
       " 'blue': 0,\n",
       " 'brown': 3,\n",
       " 'gray': 10,\n",
       " 'green': 8,\n",
       " 'hazel': 7,\n",
       " 'red': 10,\n",
       " 'violet': 12}"
      ]
     },
     "execution_count": 54,
     "metadata": {},
     "output_type": "execute_result"
    }
   ],
   "execution_count": 54
  },
  {
   "metadata": {
    "ExecuteTime": {
     "end_time": "2024-12-10T19:36:42.196216Z",
     "start_time": "2024-12-10T19:36:42.175335Z"
    }
   },
   "cell_type": "code",
   "source": [
    "import json\n",
    "from pprint import pprint\n",
    "\n",
    "common = json.load(open('project8/common.json', 'r'))\n",
    "dev = json.load(open('project8/dev.json', 'r'))\n",
    "prod = json.load(open('project8/prod.json', 'r'))\n",
    "d_checked=dict(ChainMap(dev,common))\n",
    "p_checked=dict(ChainMap(prod,common))\n",
    "pprint(p_checked)"
   ],
   "id": "6be5e6b3edd5db84",
   "outputs": [
    {
     "name": "stdout",
     "output_type": "stream",
     "text": [
      "{'data': {'input_root': '$DATA_INPUT_PATH', 'output_root': '$DATA_OUTPUT_PATH'},\n",
      " 'database': {'pwd': '$PG_PWD', 'user': '$PG_USER'},\n",
      " 'logs': {'format': '%(asctime)s: %(levelname)s: %(clientip)s %(user)s '\n",
      "                    '%(message)s',\n",
      "          'level': 'info'}}\n"
     ]
    }
   ],
   "execution_count": 74
  },
  {
   "metadata": {
    "ExecuteTime": {
     "end_time": "2024-12-10T19:48:58.763686Z",
     "start_time": "2024-12-10T19:48:58.749933Z"
    }
   },
   "cell_type": "code",
   "source": [
    "def validate(tmpl, data):\n",
    "    if isinstance(data, dict) and isinstance(tmpl, dict):\n",
    "        res = dict()\n",
    "        for k in tmpl.keys()|data.keys():\n",
    "            if k in tmpl and k in data:\n",
    "                res[k] = validate(tmpl[k], data[k])\n",
    "            elif k in tmpl:\n",
    "                res[k] = tmpl[k]\n",
    "            else:\n",
    "                res[k] = data[k]\n",
    "        return res  \n",
    "                "
   ],
   "id": "e03419ece8232acc",
   "outputs": [],
   "execution_count": 77
  },
  {
   "metadata": {
    "ExecuteTime": {
     "end_time": "2024-12-10T19:49:00.447846Z",
     "start_time": "2024-12-10T19:49:00.443010Z"
    }
   },
   "cell_type": "code",
   "source": [
    "result = validate(common, prod)\n",
    "from pprint import pprint\n",
    "pprint(result)"
   ],
   "id": "252be834827ca15c",
   "outputs": [
    {
     "name": "stdout",
     "output_type": "stream",
     "text": [
      "{'data': {'input_root': None,\n",
      "          'numerics': {'precision': 6, 'type': 'Decimal'},\n",
      "          'output_root': None},\n",
      " 'database': {'db_name': 'deepdive',\n",
      "              'port': 5432,\n",
      "              'pwd': '$PG_PWD',\n",
      "              'schema': 'public',\n",
      "              'user': '$PG_USER'},\n",
      " 'logs': {'format': '%(asctime)s: %(levelname)s: %(clientip)s %(user)s '\n",
      "                    '%(message)s',\n",
      "          'level': 'info'}}\n"
     ]
    }
   ],
   "execution_count": 78
  },
  {
   "metadata": {
    "ExecuteTime": {
     "end_time": "2024-12-10T19:54:08.989036Z",
     "start_time": "2024-12-10T19:54:08.976422Z"
    }
   },
   "cell_type": "code",
   "source": "",
   "id": "b6a8d5900ae4f15c",
   "outputs": [],
   "execution_count": 79
  },
  {
   "metadata": {
    "ExecuteTime": {
     "end_time": "2024-12-10T19:55:58.105272Z",
     "start_time": "2024-12-10T19:55:58.100164Z"
    }
   },
   "cell_type": "code",
   "source": "",
   "id": "eb261a9a95ba4813",
   "outputs": [
    {
     "name": "stdout",
     "output_type": "stream",
     "text": [
      "{'data': ChainMap({'input_root': '/default/path/inputs',\n",
      "                   'numerics': {'precision': 6, 'type': 'Decimal'},\n",
      "                   'output_root': '/default/path/outputs'},\n",
      "                  {'input_root': '$DATA_INPUT_PATH',\n",
      "                   'output_root': '$DATA_OUTPUT_PATH'}),\n",
      " 'database': ChainMap({'db_name': 'deepdive', 'port': 5432, 'schema': 'public'},\n",
      "                      {'pwd': '$PG_PWD', 'user': '$PG_USER'}),\n",
      " 'logs': {'format': '%(asctime)s: %(levelname)s: %(clientip)s %(user)s '\n",
      "                    '%(message)s',\n",
      "          'level': 'info'}}\n"
     ]
    }
   ],
   "execution_count": 81
  },
  {
   "metadata": {},
   "cell_type": "code",
   "outputs": [],
   "execution_count": null,
   "source": "",
   "id": "f3d7571a5e4ee5e2"
  }
 ],
 "metadata": {
  "kernelspec": {
   "display_name": "Python 3",
   "language": "python",
   "name": "python3"
  },
  "language_info": {
   "codemirror_mode": {
    "name": "ipython",
    "version": 2
   },
   "file_extension": ".py",
   "mimetype": "text/x-python",
   "name": "python",
   "nbconvert_exporter": "python",
   "pygments_lexer": "ipython2",
   "version": "2.7.6"
  }
 },
 "nbformat": 4,
 "nbformat_minor": 5
}
